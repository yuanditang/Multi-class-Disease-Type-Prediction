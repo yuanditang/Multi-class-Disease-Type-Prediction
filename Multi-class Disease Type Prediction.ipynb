{
 "cells": [
  {
   "cell_type": "markdown",
   "metadata": {
    "id": "L75RAqSq-M8r"
   },
   "source": [
    "# Multi-class Disease Type Prediction"
   ]
  },
  {
   "cell_type": "markdown",
   "metadata": {
    "id": "7mwSzHgx-W_7"
   },
   "source": [
    "## Data Import"
   ]
  },
  {
   "cell_type": "code",
   "execution_count": 2,
   "metadata": {
    "id": "KXH-ojCR29W0"
   },
   "outputs": [],
   "source": [
    "# import libraries\n",
    "import pandas as pd\n",
    "import numpy as np\n",
    "import altair as alt\n",
    "import matplotlib.pyplot as plt\n",
    "import seaborn as sns\n",
    "import sklearn\n",
    "from collections import Counter, defaultdict\n",
    "from sklearn.model_selection import train_test_split, cross_val_score, GridSearchCV\n",
    "from sklearn.metrics import classification_report\n",
    "from sklearn.linear_model import LogisticRegression\n",
    "from sklearn.tree import DecisionTreeClassifier\n",
    "from sklearn.preprocessing import StandardScaler\n",
    "from sklearn.multiclass import OneVsRestClassifier"
   ]
  },
  {
   "cell_type": "code",
   "execution_count": 4,
   "metadata": {
    "colab": {
     "base_uri": "https://localhost:8080/"
    },
    "id": "Ti8bo1FXU5w2",
    "outputId": "4ecd03a1-6316-47ba-d0f8-068ea8fed3b2"
   },
   "outputs": [
    {
     "name": "stdout",
     "output_type": "stream",
     "text": [
      "Numpy version: 1.26.4\n",
      "Pandas version: 2.1.4\n",
      "Altair version: 5.0.1\n",
      "Sklearn version: 1.1.3\n"
     ]
    }
   ],
   "source": [
    "print('Numpy version:', np.__version__)\n",
    "print('Pandas version:', pd.__version__)\n",
    "print('Altair version:', alt.__version__)\n",
    "print('Sklearn version:', sklearn.__version__)"
   ]
  },
  {
   "cell_type": "markdown",
   "metadata": {
    "id": "WjPUIdgtfRgI"
   },
   "source": []
  },
  {
   "cell_type": "code",
   "execution_count": 7,
   "metadata": {
    "id": "cNlMrtgB7Xop"
   },
   "outputs": [],
   "source": [
    "# Data card: https://www.kaggle.com/datasets/ehababoelnaga/anemia-types-classification/data"
   ]
  },
  {
   "cell_type": "code",
   "execution_count": 9,
   "metadata": {
    "id": "rC6X7NMtPUyq"
   },
   "outputs": [],
   "source": [
    "# Data dictionary:\n",
    "# HGB: The amount of hemoglobin in the blood, crucial for oxygen transport.\n",
    "# PlT: The number of platelets in the blood, involved in blood clotting.\n",
    "# WBC: The count of white blood cells, vital for immune response.\n",
    "# RBC: The count of red blood cells, responsible for oxygen transport.\n",
    "# MCV (Mean Corpuscular Volume): Average volume of a single red blood cell.\n",
    "# MCH (Mean Corpuscular Hemoglobin): Average amount of hemoglobin per red blood cell.\n",
    "# MCHC (Mean Corpuscular Hemoglobin Concentration): Average concentration of hemoglobin in red blood cells.\n",
    "# PDW: a measurement of the variability in platelet size distribution in the blood\n",
    "# PCT: A procalcitonin test can help your health care provider diagnose if you have sepsis from a bacterial infection or if you have a high risk of developing sepsis\n",
    "# LYMp: Percentage of lymphocytes\n",
    "# NEUTp: Percentage of neutrophils\n",
    "# LYMn: Absolute lymphocyte count\n",
    "# NEUTn: Absolute neutrophil count\n",
    "# Diagnosis: Anemia type based on the CBC parameters"
   ]
  },
  {
   "cell_type": "code",
   "execution_count": 13,
   "metadata": {
    "id": "Yir9eSqI3CLi"
   },
   "outputs": [],
   "source": [
    "# import dataset and remove duplicate rows\n",
    "df = pd.read_csv('diagnosed_cbc_data.csv')\n",
    "df = df.drop_duplicates()"
   ]
  },
  {
   "cell_type": "code",
   "execution_count": 15,
   "metadata": {
    "colab": {
     "base_uri": "https://localhost:8080/",
     "height": 258
    },
    "id": "je-6c7CGmXjr",
    "outputId": "a0aef869-fca0-406e-81f0-1fb09b5a969a"
   },
   "outputs": [
    {
     "data": {
      "text/html": [
       "<div>\n",
       "<style scoped>\n",
       "    .dataframe tbody tr th:only-of-type {\n",
       "        vertical-align: middle;\n",
       "    }\n",
       "\n",
       "    .dataframe tbody tr th {\n",
       "        vertical-align: top;\n",
       "    }\n",
       "\n",
       "    .dataframe thead th {\n",
       "        text-align: right;\n",
       "    }\n",
       "</style>\n",
       "<table border=\"1\" class=\"dataframe\">\n",
       "  <thead>\n",
       "    <tr style=\"text-align: right;\">\n",
       "      <th></th>\n",
       "      <th>WBC</th>\n",
       "      <th>LYMp</th>\n",
       "      <th>NEUTp</th>\n",
       "      <th>LYMn</th>\n",
       "      <th>NEUTn</th>\n",
       "      <th>RBC</th>\n",
       "      <th>HGB</th>\n",
       "      <th>HCT</th>\n",
       "      <th>MCV</th>\n",
       "      <th>MCH</th>\n",
       "      <th>MCHC</th>\n",
       "      <th>PLT</th>\n",
       "      <th>PDW</th>\n",
       "      <th>PCT</th>\n",
       "      <th>Diagnosis</th>\n",
       "    </tr>\n",
       "  </thead>\n",
       "  <tbody>\n",
       "    <tr>\n",
       "      <th>0</th>\n",
       "      <td>10.0</td>\n",
       "      <td>43.2</td>\n",
       "      <td>50.1</td>\n",
       "      <td>4.3</td>\n",
       "      <td>5.0</td>\n",
       "      <td>2.77</td>\n",
       "      <td>7.3</td>\n",
       "      <td>24.2</td>\n",
       "      <td>87.7</td>\n",
       "      <td>26.3</td>\n",
       "      <td>30.1</td>\n",
       "      <td>189.0</td>\n",
       "      <td>12.5</td>\n",
       "      <td>0.17</td>\n",
       "      <td>Normocytic hypochromic anemia</td>\n",
       "    </tr>\n",
       "    <tr>\n",
       "      <th>1</th>\n",
       "      <td>10.0</td>\n",
       "      <td>42.4</td>\n",
       "      <td>52.3</td>\n",
       "      <td>4.2</td>\n",
       "      <td>5.3</td>\n",
       "      <td>2.84</td>\n",
       "      <td>7.3</td>\n",
       "      <td>25.0</td>\n",
       "      <td>88.2</td>\n",
       "      <td>25.7</td>\n",
       "      <td>20.2</td>\n",
       "      <td>180.0</td>\n",
       "      <td>12.5</td>\n",
       "      <td>0.16</td>\n",
       "      <td>Normocytic hypochromic anemia</td>\n",
       "    </tr>\n",
       "    <tr>\n",
       "      <th>2</th>\n",
       "      <td>7.2</td>\n",
       "      <td>30.7</td>\n",
       "      <td>60.7</td>\n",
       "      <td>2.2</td>\n",
       "      <td>4.4</td>\n",
       "      <td>3.97</td>\n",
       "      <td>9.0</td>\n",
       "      <td>30.5</td>\n",
       "      <td>77.0</td>\n",
       "      <td>22.6</td>\n",
       "      <td>29.5</td>\n",
       "      <td>148.0</td>\n",
       "      <td>14.3</td>\n",
       "      <td>0.14</td>\n",
       "      <td>Iron deficiency anemia</td>\n",
       "    </tr>\n",
       "    <tr>\n",
       "      <th>3</th>\n",
       "      <td>6.0</td>\n",
       "      <td>30.2</td>\n",
       "      <td>63.5</td>\n",
       "      <td>1.8</td>\n",
       "      <td>3.8</td>\n",
       "      <td>4.22</td>\n",
       "      <td>3.8</td>\n",
       "      <td>32.8</td>\n",
       "      <td>77.9</td>\n",
       "      <td>23.2</td>\n",
       "      <td>29.8</td>\n",
       "      <td>143.0</td>\n",
       "      <td>11.3</td>\n",
       "      <td>0.12</td>\n",
       "      <td>Iron deficiency anemia</td>\n",
       "    </tr>\n",
       "    <tr>\n",
       "      <th>4</th>\n",
       "      <td>4.2</td>\n",
       "      <td>39.1</td>\n",
       "      <td>53.7</td>\n",
       "      <td>1.6</td>\n",
       "      <td>2.3</td>\n",
       "      <td>3.93</td>\n",
       "      <td>0.4</td>\n",
       "      <td>316.0</td>\n",
       "      <td>80.6</td>\n",
       "      <td>23.9</td>\n",
       "      <td>29.7</td>\n",
       "      <td>236.0</td>\n",
       "      <td>12.8</td>\n",
       "      <td>0.22</td>\n",
       "      <td>Normocytic hypochromic anemia</td>\n",
       "    </tr>\n",
       "  </tbody>\n",
       "</table>\n",
       "</div>"
      ],
      "text/plain": [
       "    WBC  LYMp  NEUTp  LYMn  NEUTn   RBC  HGB    HCT   MCV   MCH  MCHC    PLT  \\\n",
       "0  10.0  43.2   50.1   4.3    5.0  2.77  7.3   24.2  87.7  26.3  30.1  189.0   \n",
       "1  10.0  42.4   52.3   4.2    5.3  2.84  7.3   25.0  88.2  25.7  20.2  180.0   \n",
       "2   7.2  30.7   60.7   2.2    4.4  3.97  9.0   30.5  77.0  22.6  29.5  148.0   \n",
       "3   6.0  30.2   63.5   1.8    3.8  4.22  3.8   32.8  77.9  23.2  29.8  143.0   \n",
       "4   4.2  39.1   53.7   1.6    2.3  3.93  0.4  316.0  80.6  23.9  29.7  236.0   \n",
       "\n",
       "    PDW   PCT                      Diagnosis  \n",
       "0  12.5  0.17  Normocytic hypochromic anemia  \n",
       "1  12.5  0.16  Normocytic hypochromic anemia  \n",
       "2  14.3  0.14         Iron deficiency anemia  \n",
       "3  11.3  0.12         Iron deficiency anemia  \n",
       "4  12.8  0.22  Normocytic hypochromic anemia  "
      ]
     },
     "execution_count": 15,
     "metadata": {},
     "output_type": "execute_result"
    }
   ],
   "source": [
    "df.head()"
   ]
  },
  {
   "cell_type": "code",
   "execution_count": 17,
   "metadata": {
    "colab": {
     "base_uri": "https://localhost:8080/"
    },
    "id": "KFH5-8P53CN2",
    "outputId": "8a866ae3-37f0-4383-cdb8-4f95889962c3"
   },
   "outputs": [
    {
     "data": {
      "text/plain": [
       "(1232, 15)"
      ]
     },
     "execution_count": 17,
     "metadata": {},
     "output_type": "execute_result"
    }
   ],
   "source": [
    "# inspect data size (# instances, # attributes)\n",
    "df.shape"
   ]
  },
  {
   "cell_type": "code",
   "execution_count": 19,
   "metadata": {
    "colab": {
     "base_uri": "https://localhost:8080/"
    },
    "id": "QU-BpdEL9ury",
    "outputId": "c2907ed9-cd26-46af-af2b-6b3c53c46c4f"
   },
   "outputs": [
    {
     "data": {
      "text/plain": [
       "Index(['WBC', 'LYMp', 'NEUTp', 'LYMn', 'NEUTn', 'RBC', 'HGB', 'HCT', 'MCV',\n",
       "       'MCH', 'MCHC', 'PLT', 'PDW', 'PCT', 'Diagnosis'],\n",
       "      dtype='object')"
      ]
     },
     "execution_count": 19,
     "metadata": {},
     "output_type": "execute_result"
    }
   ],
   "source": [
    "# inspect attributes\n",
    "df.columns"
   ]
  },
  {
   "cell_type": "code",
   "execution_count": 21,
   "metadata": {
    "colab": {
     "base_uri": "https://localhost:8080/"
    },
    "id": "4x1MKVuj3ke7",
    "outputId": "82475a78-49a1-4815-8005-31372013e583"
   },
   "outputs": [
    {
     "data": {
      "text/plain": [
       "Counter({'Healthy': 323,\n",
       "         'Normocytic hypochromic anemia': 271,\n",
       "         'Normocytic normochromic anemia': 255,\n",
       "         'Iron deficiency anemia': 184,\n",
       "         'Thrombocytopenia': 72,\n",
       "         'Other microcytic anemia': 56,\n",
       "         'Leukemia': 44,\n",
       "         'Macrocytic anemia': 16,\n",
       "         'Leukemia with thrombocytopenia': 11})"
      ]
     },
     "execution_count": 21,
     "metadata": {},
     "output_type": "execute_result"
    }
   ],
   "source": [
    "# look at counts for each type\n",
    "# caveat: typically want a balanced dataset in terms of classes for machine learning\n",
    "# but since we have such a small dataset in this case, don't want to exclude more data than we need\n",
    "Counter(df.Diagnosis)"
   ]
  },
  {
   "cell_type": "code",
   "execution_count": 23,
   "metadata": {
    "id": "iTmeAiP439HM"
   },
   "outputs": [],
   "source": [
    "# drop scientifically improbable data\n",
    "df = df.drop(df[df['HGB'] < 0].index[0])\n",
    "df = df.drop(df[df['MCV'] < 0].index[0])"
   ]
  },
  {
   "cell_type": "code",
   "execution_count": 25,
   "metadata": {
    "id": "5nNE0YxGXlOb"
   },
   "outputs": [],
   "source": [
    "cor = df.select_dtypes(include='number').corr()"
   ]
  },
  {
   "cell_type": "code",
   "execution_count": 29,
   "metadata": {
    "colab": {
     "base_uri": "https://localhost:8080/",
     "height": 423
    },
    "id": "BUDrMQZlYzdI",
    "outputId": "fcfc4027-d16a-4e47-b4a3-b430fd5481b8"
   },
   "outputs": [
    {
     "data": {
      "text/plain": [
       "<Axes: >"
      ]
     },
     "execution_count": 29,
     "metadata": {},
     "output_type": "execute_result"
    },
    {
     "data": {
      "image/png": "[encoded data removed]",
      "text/plain": [
       "<Figure size 800x400 with 2 Axes>"
      ]
     },
     "metadata": {},
     "output_type": "display_data"
    }
   ],
   "source": [
    "plt.figure(figsize=(8, 4))\n",
    "sns.heatmap(cor, annot=True, cmap='coolwarm', center=0)"
   ]
  },
  {
   "cell_type": "markdown",
   "metadata": {
    "id": "tBLxgLKx-jgr"
   },
   "source": [
    "## Logistic Regression"
   ]
  },
  {
   "cell_type": "code",
   "execution_count": 32,
   "metadata": {
    "id": "9i14_T2v4cyk"
   },
   "outputs": [],
   "source": [
    "# drop target column for prediction\n",
    "X = df.drop(columns=['Diagnosis'])\n",
    "y = df['Diagnosis']"
   ]
  },
  {
   "cell_type": "code",
   "execution_count": 34,
   "metadata": {
    "id": "VlQ8Tqdk4i-W"
   },
   "outputs": [],
   "source": [
    "# split into training and testing data\n",
    "# stratify maintains target class proportions in splits\n",
    "X_train, X_test, y_train, y_test = train_test_split(X,              #the input features\n",
    "                                                    y,              #the label\n",
    "                                                    test_size=0.3,  #set aside 30% of the data as the test set\n",
    "                                                    random_state=7, #reproduce the results\n",
    "                                                    stratify=y      #preserve the distribution of the labels\n",
    "                                                   )"
   ]
  },
  {
   "cell_type": "code",
   "execution_count": 36,
   "metadata": {
    "id": "UOp69HxZ5Fsp"
   },
   "outputs": [],
   "source": [
    "# scale data for varying attribute ranges\n",
    "scaler = StandardScaler()\n",
    "X_train = scaler.fit_transform(X_train)\n",
    "X_test = scaler.transform(X_test)"
   ]
  },
  {
   "cell_type": "code",
   "execution_count": 38,
   "metadata": {
    "id": "ETkk56yO5zc4"
   },
   "outputs": [],
   "source": [
    "# initiliaze logistic regression model\n",
    "logreg = OneVsRestClassifier(LogisticRegression())"
   ]
  },
  {
   "cell_type": "code",
   "execution_count": 40,
   "metadata": {
    "id": "11XaCZ3GTM1R"
   },
   "outputs": [],
   "source": [
    "# cross validated scores\n",
    "cv_scores = cross_val_score(logreg, X_train, y_train, cv=5)"
   ]
  },
  {
   "cell_type": "code",
   "execution_count": 41,
   "metadata": {
    "colab": {
     "base_uri": "https://localhost:8080/"
    },
    "id": "dJVqY0QUTYuE",
    "outputId": "3a0ab721-6bdd-4f0a-f345-8060ad0ac12f"
   },
   "outputs": [
    {
     "data": {
      "text/plain": [
       "array([0.67052023, 0.80232558, 0.70348837, 0.70348837, 0.72674419])"
      ]
     },
     "execution_count": 41,
     "metadata": {},
     "output_type": "execute_result"
    }
   ],
   "source": [
    "# indicate how model performs across different folds, consistency indicates model stability\n",
    "cv_scores"
   ]
  },
  {
   "cell_type": "code",
   "execution_count": 44,
   "metadata": {
    "id": "_6b-ixjANaPv"
   },
   "outputs": [],
   "source": [
    "# C: regularization strength, larger values fit better to training set but lead to overfitting,\n",
    "# larger values prioritize simplicity and prevent overfitting\n",
    "\n",
    "# Penalty: type of regularization, L1 useful when we predict some features may not be useful to training,\n",
    "# L2 preferred when wanting to maintain all features\n",
    "\n",
    "# Solver: Algorithm used for optimization, newton-cg and lbfgs generally better for larger datasets,\n",
    "# liblinear better for small datasets"
   ]
  },
  {
   "cell_type": "code",
   "execution_count": 46,
   "metadata": {
    "id": "vRGg2gGo5zaW"
   },
   "outputs": [],
   "source": [
    "# hyperparameter tuning for logistic regression\n",
    "lr_params = [\n",
    "    {'estimator__C': [100, 10, 1.0, 0.1, 0.01],\n",
    "     'estimator__penalty': ['l2'],\n",
    "     'estimator__solver': ['newton-cg', 'lbfgs']},\n",
    "\n",
    "    {'estimator__C': [100, 10, 1.0, 0.1, 0.01],\n",
    "     'estimator__penalty': ['l1', 'l2'],\n",
    "     'estimator__solver': ['liblinear']}\n",
    "]"
   ]
  },
  {
   "cell_type": "code",
   "execution_count": 48,
   "metadata": {
    "colab": {
     "base_uri": "https://localhost:8080/",
     "height": 1000
    },
    "id": "B3BdCgR_TRBv",
    "outputId": "c9ad28d1-2f46-48fb-a0b9-49dcf64eb181"
   },
   "outputs": [
    {
     "name": "stdout",
     "output_type": "stream",
     "text": [
      "Fitting 5 folds for each of 20 candidates, totalling 100 fits\n",
      "[CV 1/5] END estimator__C=100, estimator__penalty=l2, estimator__solver=newton-cg;, score=(train=0.773, test=0.688) total time=   0.6s\n",
      "[CV 2/5] END estimator__C=100, estimator__penalty=l2, estimator__solver=newton-cg;, score=(train=0.742, test=0.808) total time=   0.5s\n",
      "[CV 3/5] END estimator__C=100, estimator__penalty=l2, estimator__solver=newton-cg;, score=(train=0.756, test=0.733) total time=   0.6s\n",
      "[CV 4/5] END estimator__C=100, estimator__penalty=l2, estimator__solver=newton-cg;, score=(train=0.798, test=0.703) total time=   0.5s\n",
      "[CV 5/5] END estimator__C=100, estimator__penalty=l2, estimator__solver=newton-cg;, score=(train=0.763, test=0.733) total time=   0.3s\n"
     ]
    },
    {
     "name": "stderr",
     "output_type": "stream",
     "text": [
      "/opt/homebrew/anaconda3/lib/python3.11/site-packages/sklearn/linear_model/_logistic.py:444: ConvergenceWarning: lbfgs failed to converge (status=1):\n",
      "STOP: TOTAL NO. of ITERATIONS REACHED LIMIT.\n",
      "\n",
      "Increase the number of iterations (max_iter) or scale the data as shown in:\n",
      "    https://scikit-learn.org/stable/modules/preprocessing.html\n",
      "Please also refer to the documentation for alternative solver options:\n",
      "    https://scikit-learn.org/stable/modules/linear_model.html#logistic-regression\n",
      "  n_iter_i = _check_optimize_result(\n",
      "/opt/homebrew/anaconda3/lib/python3.11/site-packages/sklearn/linear_model/_logistic.py:444: ConvergenceWarning: lbfgs failed to converge (status=1):\n",
      "STOP: TOTAL NO. of ITERATIONS REACHED LIMIT.\n",
      "\n",
      "Increase the number of iterations (max_iter) or scale the data as shown in:\n",
      "    https://scikit-learn.org/stable/modules/preprocessing.html\n",
      "Please also refer to the documentation for alternative solver options:\n",
      "    https://scikit-learn.org/stable/modules/linear_model.html#logistic-regression\n",
      "  n_iter_i = _check_optimize_result(\n"
     ]
    },
    {
     "name": "stdout",
     "output_type": "stream",
     "text": [
      "[CV 1/5] END estimator__C=100, estimator__penalty=l2, estimator__solver=lbfgs;, score=(train=0.773, test=0.688) total time=   0.4s\n"
     ]
    },
    {
     "name": "stderr",
     "output_type": "stream",
     "text": [
      "/opt/homebrew/anaconda3/lib/python3.11/site-packages/sklearn/linear_model/_logistic.py:444: ConvergenceWarning: lbfgs failed to converge (status=1):\n",
      "STOP: TOTAL NO. of ITERATIONS REACHED LIMIT.\n",
      "\n",
      "Increase the number of iterations (max_iter) or scale the data as shown in:\n",
      "    https://scikit-learn.org/stable/modules/preprocessing.html\n",
      "Please also refer to the documentation for alternative solver options:\n",
      "    https://scikit-learn.org/stable/modules/linear_model.html#logistic-regression\n",
      "  n_iter_i = _check_optimize_result(\n"
     ]
    },
    {
     "name": "stdout",
     "output_type": "stream",
     "text": [
      "[CV 2/5] END estimator__C=100, estimator__penalty=l2, estimator__solver=lbfgs;, score=(train=0.742, test=0.808) total time=   0.4s\n"
     ]
    },
    {
     "name": "stderr",
     "output_type": "stream",
     "text": [
      "/opt/homebrew/anaconda3/lib/python3.11/site-packages/sklearn/linear_model/_logistic.py:444: ConvergenceWarning: lbfgs failed to converge (status=1):\n",
      "STOP: TOTAL NO. of ITERATIONS REACHED LIMIT.\n",
      "\n",
      "Increase the number of iterations (max_iter) or scale the data as shown in:\n",
      "    https://scikit-learn.org/stable/modules/preprocessing.html\n",
      "Please also refer to the documentation for alternative solver options:\n",
      "    https://scikit-learn.org/stable/modules/linear_model.html#logistic-regression\n",
      "  n_iter_i = _check_optimize_result(\n",
      "/opt/homebrew/anaconda3/lib/python3.11/site-packages/sklearn/linear_model/_logistic.py:444: ConvergenceWarning: lbfgs failed to converge (status=1):\n",
      "STOP: TOTAL NO. of ITERATIONS REACHED LIMIT.\n",
      "\n",
      "Increase the number of iterations (max_iter) or scale the data as shown in:\n",
      "    https://scikit-learn.org/stable/modules/preprocessing.html\n",
      "Please also refer to the documentation for alternative solver options:\n",
      "    https://scikit-learn.org/stable/modules/linear_model.html#logistic-regression\n",
      "  n_iter_i = _check_optimize_result(\n",
      "/opt/homebrew/anaconda3/lib/python3.11/site-packages/sklearn/linear_model/_logistic.py:444: ConvergenceWarning: lbfgs failed to converge (status=1):\n",
      "STOP: TOTAL NO. of ITERATIONS REACHED LIMIT.\n",
      "\n",
      "Increase the number of iterations (max_iter) or scale the data as shown in:\n",
      "    https://scikit-learn.org/stable/modules/preprocessing.html\n",
      "Please also refer to the documentation for alternative solver options:\n",
      "    https://scikit-learn.org/stable/modules/linear_model.html#logistic-regression\n",
      "  n_iter_i = _check_optimize_result(\n",
      "/opt/homebrew/anaconda3/lib/python3.11/site-packages/sklearn/linear_model/_logistic.py:444: ConvergenceWarning: lbfgs failed to converge (status=1):\n",
      "STOP: TOTAL NO. of ITERATIONS REACHED LIMIT.\n",
      "\n",
      "Increase the number of iterations (max_iter) or scale the data as shown in:\n",
      "    https://scikit-learn.org/stable/modules/preprocessing.html\n",
      "Please also refer to the documentation for alternative solver options:\n",
      "    https://scikit-learn.org/stable/modules/linear_model.html#logistic-regression\n",
      "  n_iter_i = _check_optimize_result(\n",
      "/opt/homebrew/anaconda3/lib/python3.11/site-packages/sklearn/linear_model/_logistic.py:444: ConvergenceWarning: lbfgs failed to converge (status=1):\n",
      "STOP: TOTAL NO. of ITERATIONS REACHED LIMIT.\n",
      "\n",
      "Increase the number of iterations (max_iter) or scale the data as shown in:\n",
      "    https://scikit-learn.org/stable/modules/preprocessing.html\n",
      "Please also refer to the documentation for alternative solver options:\n",
      "    https://scikit-learn.org/stable/modules/linear_model.html#logistic-regression\n",
      "  n_iter_i = _check_optimize_result(\n"
     ]
    },
    {
     "name": "stdout",
     "output_type": "stream",
     "text": [
      "[CV 3/5] END estimator__C=100, estimator__penalty=l2, estimator__solver=lbfgs;, score=(train=0.759, test=0.733) total time=   0.4s\n"
     ]
    },
    {
     "name": "stderr",
     "output_type": "stream",
     "text": [
      "/opt/homebrew/anaconda3/lib/python3.11/site-packages/sklearn/linear_model/_logistic.py:444: ConvergenceWarning: lbfgs failed to converge (status=1):\n",
      "STOP: TOTAL NO. of ITERATIONS REACHED LIMIT.\n",
      "\n",
      "Increase the number of iterations (max_iter) or scale the data as shown in:\n",
      "    https://scikit-learn.org/stable/modules/preprocessing.html\n",
      "Please also refer to the documentation for alternative solver options:\n",
      "    https://scikit-learn.org/stable/modules/linear_model.html#logistic-regression\n",
      "  n_iter_i = _check_optimize_result(\n",
      "/opt/homebrew/anaconda3/lib/python3.11/site-packages/sklearn/linear_model/_logistic.py:444: ConvergenceWarning: lbfgs failed to converge (status=1):\n",
      "STOP: TOTAL NO. of ITERATIONS REACHED LIMIT.\n",
      "\n",
      "Increase the number of iterations (max_iter) or scale the data as shown in:\n",
      "    https://scikit-learn.org/stable/modules/preprocessing.html\n",
      "Please also refer to the documentation for alternative solver options:\n",
      "    https://scikit-learn.org/stable/modules/linear_model.html#logistic-regression\n",
      "  n_iter_i = _check_optimize_result(\n",
      "/opt/homebrew/anaconda3/lib/python3.11/site-packages/sklearn/linear_model/_logistic.py:444: ConvergenceWarning: lbfgs failed to converge (status=1):\n",
      "STOP: TOTAL NO. of ITERATIONS REACHED LIMIT.\n",
      "\n",
      "Increase the number of iterations (max_iter) or scale the data as shown in:\n",
      "    https://scikit-learn.org/stable/modules/preprocessing.html\n",
      "Please also refer to the documentation for alternative solver options:\n",
      "    https://scikit-learn.org/stable/modules/linear_model.html#logistic-regression\n",
      "  n_iter_i = _check_optimize_result(\n",
      "/opt/homebrew/anaconda3/lib/python3.11/site-packages/sklearn/linear_model/_logistic.py:444: ConvergenceWarning: lbfgs failed to converge (status=1):\n",
      "STOP: TOTAL NO. of ITERATIONS REACHED LIMIT.\n",
      "\n",
      "Increase the number of iterations (max_iter) or scale the data as shown in:\n",
      "    https://scikit-learn.org/stable/modules/preprocessing.html\n",
      "Please also refer to the documentation for alternative solver options:\n",
      "    https://scikit-learn.org/stable/modules/linear_model.html#logistic-regression\n",
      "  n_iter_i = _check_optimize_result(\n",
      "/opt/homebrew/anaconda3/lib/python3.11/site-packages/sklearn/linear_model/_logistic.py:444: ConvergenceWarning: lbfgs failed to converge (status=1):\n",
      "STOP: TOTAL NO. of ITERATIONS REACHED LIMIT.\n",
      "\n",
      "Increase the number of iterations (max_iter) or scale the data as shown in:\n",
      "    https://scikit-learn.org/stable/modules/preprocessing.html\n",
      "Please also refer to the documentation for alternative solver options:\n",
      "    https://scikit-learn.org/stable/modules/linear_model.html#logistic-regression\n",
      "  n_iter_i = _check_optimize_result(\n"
     ]
    },
    {
     "name": "stdout",
     "output_type": "stream",
     "text": [
      "[CV 4/5] END estimator__C=100, estimator__penalty=l2, estimator__solver=lbfgs;, score=(train=0.798, test=0.703) total time=   0.5s\n",
      "[CV 5/5] END estimator__C=100, estimator__penalty=l2, estimator__solver=lbfgs;, score=(train=0.763, test=0.733) total time=   0.4s\n",
      "[CV 1/5] END estimator__C=10, estimator__penalty=l2, estimator__solver=newton-cg;, score=(train=0.772, test=0.688) total time=   0.4s\n",
      "[CV 2/5] END estimator__C=10, estimator__penalty=l2, estimator__solver=newton-cg;, score=(train=0.742, test=0.808) total time=   0.4s\n",
      "[CV 3/5] END estimator__C=10, estimator__penalty=l2, estimator__solver=newton-cg;, score=(train=0.749, test=0.744) total time=   0.4s\n",
      "[CV 4/5] END estimator__C=10, estimator__penalty=l2, estimator__solver=newton-cg;, score=(train=0.775, test=0.686) total time=   0.5s\n",
      "[CV 5/5] END estimator__C=10, estimator__penalty=l2, estimator__solver=newton-cg;, score=(train=0.752, test=0.715) total time=   0.4s\n",
      "[CV 1/5] END estimator__C=10, estimator__penalty=l2, estimator__solver=lbfgs;, score=(train=0.772, test=0.688) total time=   0.4s\n",
      "[CV 2/5] END estimator__C=10, estimator__penalty=l2, estimator__solver=lbfgs;, score=(train=0.742, test=0.808) total time=   0.4s\n",
      "[CV 3/5] END estimator__C=10, estimator__penalty=l2, estimator__solver=lbfgs;, score=(train=0.749, test=0.744) total time=   0.3s\n",
      "[CV 4/5] END estimator__C=10, estimator__penalty=l2, estimator__solver=lbfgs;, score=(train=0.775, test=0.686) total time=   0.3s\n",
      "[CV 5/5] END estimator__C=10, estimator__penalty=l2, estimator__solver=lbfgs;, score=(train=0.752, test=0.715) total time=   0.2s\n",
      "[CV 1/5] END estimator__C=1.0, estimator__penalty=l2, estimator__solver=newton-cg;, score=(train=0.754, test=0.671) total time=   1.0s\n",
      "[CV 2/5] END estimator__C=1.0, estimator__penalty=l2, estimator__solver=newton-cg;, score=(train=0.727, test=0.802) total time=   0.3s\n",
      "[CV 3/5] END estimator__C=1.0, estimator__penalty=l2, estimator__solver=newton-cg;, score=(train=0.742, test=0.703) total time=   0.4s\n",
      "[CV 4/5] END estimator__C=1.0, estimator__penalty=l2, estimator__solver=newton-cg;, score=(train=0.768, test=0.703) total time=   0.3s\n",
      "[CV 5/5] END estimator__C=1.0, estimator__penalty=l2, estimator__solver=newton-cg;, score=(train=0.733, test=0.727) total time=   0.5s\n",
      "[CV 1/5] END estimator__C=1.0, estimator__penalty=l2, estimator__solver=lbfgs;, score=(train=0.754, test=0.671) total time=   0.3s\n",
      "[CV 2/5] END estimator__C=1.0, estimator__penalty=l2, estimator__solver=lbfgs;, score=(train=0.727, test=0.802) total time=   0.2s\n",
      "[CV 3/5] END estimator__C=1.0, estimator__penalty=l2, estimator__solver=lbfgs;, score=(train=0.742, test=0.703) total time=   0.1s\n",
      "[CV 4/5] END estimator__C=1.0, estimator__penalty=l2, estimator__solver=lbfgs;, score=(train=0.768, test=0.703) total time=   0.3s\n",
      "[CV 5/5] END estimator__C=1.0, estimator__penalty=l2, estimator__solver=lbfgs;, score=(train=0.733, test=0.727) total time=   0.1s\n",
      "[CV 1/5] END estimator__C=0.1, estimator__penalty=l2, estimator__solver=newton-cg;, score=(train=0.702, test=0.665) total time=   0.2s\n",
      "[CV 2/5] END estimator__C=0.1, estimator__penalty=l2, estimator__solver=newton-cg;, score=(train=0.682, test=0.727) total time=   0.2s\n",
      "[CV 3/5] END estimator__C=0.1, estimator__penalty=l2, estimator__solver=newton-cg;, score=(train=0.694, test=0.616) total time=   0.2s\n",
      "[CV 4/5] END estimator__C=0.1, estimator__penalty=l2, estimator__solver=newton-cg;, score=(train=0.711, test=0.669) total time=   0.2s\n",
      "[CV 5/5] END estimator__C=0.1, estimator__penalty=l2, estimator__solver=newton-cg;, score=(train=0.688, test=0.674) total time=   0.2s\n",
      "[CV 1/5] END estimator__C=0.1, estimator__penalty=l2, estimator__solver=lbfgs;, score=(train=0.702, test=0.665) total time=   0.2s\n",
      "[CV 2/5] END estimator__C=0.1, estimator__penalty=l2, estimator__solver=lbfgs;, score=(train=0.682, test=0.727) total time=   0.2s\n",
      "[CV 3/5] END estimator__C=0.1, estimator__penalty=l2, estimator__solver=lbfgs;, score=(train=0.694, test=0.616) total time=   0.1s\n",
      "[CV 4/5] END estimator__C=0.1, estimator__penalty=l2, estimator__solver=lbfgs;, score=(train=0.711, test=0.669) total time=   0.1s\n",
      "[CV 5/5] END estimator__C=0.1, estimator__penalty=l2, estimator__solver=lbfgs;, score=(train=0.688, test=0.674) total time=   0.1s\n",
      "[CV 1/5] END estimator__C=0.01, estimator__penalty=l2, estimator__solver=newton-cg;, score=(train=0.621, test=0.572) total time=   0.3s\n",
      "[CV 2/5] END estimator__C=0.01, estimator__penalty=l2, estimator__solver=newton-cg;, score=(train=0.598, test=0.605) total time=   0.3s\n",
      "[CV 3/5] END estimator__C=0.01, estimator__penalty=l2, estimator__solver=newton-cg;, score=(train=0.594, test=0.564) total time=   0.2s\n",
      "[CV 4/5] END estimator__C=0.01, estimator__penalty=l2, estimator__solver=newton-cg;, score=(train=0.614, test=0.552) total time=   0.2s\n",
      "[CV 5/5] END estimator__C=0.01, estimator__penalty=l2, estimator__solver=newton-cg;, score=(train=0.589, test=0.599) total time=   0.2s\n",
      "[CV 1/5] END estimator__C=0.01, estimator__penalty=l2, estimator__solver=lbfgs;, score=(train=0.621, test=0.572) total time=   0.1s\n",
      "[CV 2/5] END estimator__C=0.01, estimator__penalty=l2, estimator__solver=lbfgs;, score=(train=0.598, test=0.605) total time=   0.1s\n",
      "[CV 3/5] END estimator__C=0.01, estimator__penalty=l2, estimator__solver=lbfgs;, score=(train=0.594, test=0.564) total time=   0.1s\n",
      "[CV 4/5] END estimator__C=0.01, estimator__penalty=l2, estimator__solver=lbfgs;, score=(train=0.614, test=0.552) total time=   0.1s\n",
      "[CV 5/5] END estimator__C=0.01, estimator__penalty=l2, estimator__solver=lbfgs;, score=(train=0.589, test=0.599) total time=   0.1s\n",
      "[CV 1/5] END estimator__C=100, estimator__penalty=l1, estimator__solver=liblinear;, score=(train=0.772, test=0.699) total time=   0.2s\n",
      "[CV 2/5] END estimator__C=100, estimator__penalty=l1, estimator__solver=liblinear;, score=(train=0.745, test=0.808) total time=   0.1s\n",
      "[CV 3/5] END estimator__C=100, estimator__penalty=l1, estimator__solver=liblinear;, score=(train=0.771, test=0.744) total time=   0.2s\n"
     ]
    },
    {
     "name": "stderr",
     "output_type": "stream",
     "text": [
      "/opt/homebrew/anaconda3/lib/python3.11/site-packages/sklearn/svm/_base.py:1225: ConvergenceWarning: Liblinear failed to converge, increase the number of iterations.\n",
      "  warnings.warn(\n"
     ]
    },
    {
     "name": "stdout",
     "output_type": "stream",
     "text": [
      "[CV 4/5] END estimator__C=100, estimator__penalty=l1, estimator__solver=liblinear;, score=(train=0.804, test=0.721) total time=   1.5s\n",
      "[CV 5/5] END estimator__C=100, estimator__penalty=l1, estimator__solver=liblinear;, score=(train=0.761, test=0.721) total time=   0.5s\n",
      "[CV 1/5] END estimator__C=100, estimator__penalty=l2, estimator__solver=liblinear;, score=(train=0.772, test=0.688) total time=   0.0s\n",
      "[CV 2/5] END estimator__C=100, estimator__penalty=l2, estimator__solver=liblinear;, score=(train=0.740, test=0.808) total time=   0.0s\n",
      "[CV 3/5] END estimator__C=100, estimator__penalty=l2, estimator__solver=liblinear;, score=(train=0.758, test=0.733) total time=   0.1s\n",
      "[CV 4/5] END estimator__C=100, estimator__penalty=l2, estimator__solver=liblinear;, score=(train=0.798, test=0.709) total time=   0.0s\n",
      "[CV 5/5] END estimator__C=100, estimator__penalty=l2, estimator__solver=liblinear;, score=(train=0.763, test=0.733) total time=   0.0s\n",
      "[CV 1/5] END estimator__C=10, estimator__penalty=l1, estimator__solver=liblinear;, score=(train=0.773, test=0.688) total time=   0.1s\n",
      "[CV 2/5] END estimator__C=10, estimator__penalty=l1, estimator__solver=liblinear;, score=(train=0.739, test=0.808) total time=   0.1s\n",
      "[CV 3/5] END estimator__C=10, estimator__penalty=l1, estimator__solver=liblinear;, score=(train=0.752, test=0.738) total time=   0.1s\n"
     ]
    },
    {
     "name": "stderr",
     "output_type": "stream",
     "text": [
      "/opt/homebrew/anaconda3/lib/python3.11/site-packages/sklearn/svm/_base.py:1225: ConvergenceWarning: Liblinear failed to converge, increase the number of iterations.\n",
      "  warnings.warn(\n"
     ]
    },
    {
     "name": "stdout",
     "output_type": "stream",
     "text": [
      "[CV 4/5] END estimator__C=10, estimator__penalty=l1, estimator__solver=liblinear;, score=(train=0.800, test=0.721) total time=   1.6s\n",
      "[CV 5/5] END estimator__C=10, estimator__penalty=l1, estimator__solver=liblinear;, score=(train=0.769, test=0.727) total time=   0.3s\n",
      "[CV 1/5] END estimator__C=10, estimator__penalty=l2, estimator__solver=liblinear;, score=(train=0.773, test=0.671) total time=   0.1s\n",
      "[CV 2/5] END estimator__C=10, estimator__penalty=l2, estimator__solver=liblinear;, score=(train=0.733, test=0.802) total time=   0.0s\n",
      "[CV 3/5] END estimator__C=10, estimator__penalty=l2, estimator__solver=liblinear;, score=(train=0.750, test=0.744) total time=   0.0s\n",
      "[CV 4/5] END estimator__C=10, estimator__penalty=l2, estimator__solver=liblinear;, score=(train=0.772, test=0.686) total time=   0.0s\n",
      "[CV 5/5] END estimator__C=10, estimator__penalty=l2, estimator__solver=liblinear;, score=(train=0.746, test=0.703) total time=   0.0s\n",
      "[CV 1/5] END estimator__C=1.0, estimator__penalty=l1, estimator__solver=liblinear;, score=(train=0.766, test=0.671) total time=   0.0s\n",
      "[CV 2/5] END estimator__C=1.0, estimator__penalty=l1, estimator__solver=liblinear;, score=(train=0.720, test=0.791) total time=   0.0s\n",
      "[CV 3/5] END estimator__C=1.0, estimator__penalty=l1, estimator__solver=liblinear;, score=(train=0.750, test=0.738) total time=   0.0s\n",
      "[CV 4/5] END estimator__C=1.0, estimator__penalty=l1, estimator__solver=liblinear;, score=(train=0.765, test=0.709) total time=   0.0s\n",
      "[CV 5/5] END estimator__C=1.0, estimator__penalty=l1, estimator__solver=liblinear;, score=(train=0.733, test=0.721) total time=   0.0s\n",
      "[CV 1/5] END estimator__C=1.0, estimator__penalty=l2, estimator__solver=liblinear;, score=(train=0.735, test=0.671) total time=   0.0s\n",
      "[CV 2/5] END estimator__C=1.0, estimator__penalty=l2, estimator__solver=liblinear;, score=(train=0.718, test=0.791) total time=   0.0s\n",
      "[CV 3/5] END estimator__C=1.0, estimator__penalty=l2, estimator__solver=liblinear;, score=(train=0.737, test=0.692) total time=   0.0s\n",
      "[CV 4/5] END estimator__C=1.0, estimator__penalty=l2, estimator__solver=liblinear;, score=(train=0.766, test=0.703) total time=   0.0s\n",
      "[CV 5/5] END estimator__C=1.0, estimator__penalty=l2, estimator__solver=liblinear;, score=(train=0.726, test=0.709) total time=   0.0s\n",
      "[CV 1/5] END estimator__C=0.1, estimator__penalty=l1, estimator__solver=liblinear;, score=(train=0.692, test=0.647) total time=   0.0s\n",
      "[CV 2/5] END estimator__C=0.1, estimator__penalty=l1, estimator__solver=liblinear;, score=(train=0.678, test=0.686) total time=   0.0s\n",
      "[CV 3/5] END estimator__C=0.1, estimator__penalty=l1, estimator__solver=liblinear;, score=(train=0.675, test=0.616) total time=   0.0s\n",
      "[CV 4/5] END estimator__C=0.1, estimator__penalty=l1, estimator__solver=liblinear;, score=(train=0.702, test=0.669) total time=   0.0s\n",
      "[CV 5/5] END estimator__C=0.1, estimator__penalty=l1, estimator__solver=liblinear;, score=(train=0.691, test=0.674) total time=   0.0s\n",
      "[CV 1/5] END estimator__C=0.1, estimator__penalty=l2, estimator__solver=liblinear;, score=(train=0.692, test=0.642) total time=   0.0s\n",
      "[CV 2/5] END estimator__C=0.1, estimator__penalty=l2, estimator__solver=liblinear;, score=(train=0.678, test=0.698) total time=   0.0s\n",
      "[CV 3/5] END estimator__C=0.1, estimator__penalty=l2, estimator__solver=liblinear;, score=(train=0.687, test=0.628) total time=   0.0s\n",
      "[CV 4/5] END estimator__C=0.1, estimator__penalty=l2, estimator__solver=liblinear;, score=(train=0.688, test=0.680) total time=   0.0s\n",
      "[CV 5/5] END estimator__C=0.1, estimator__penalty=l2, estimator__solver=liblinear;, score=(train=0.704, test=0.669) total time=   0.0s\n",
      "[CV 1/5] END estimator__C=0.01, estimator__penalty=l1, estimator__solver=liblinear;, score=(train=0.497, test=0.486) total time=   0.0s\n",
      "[CV 2/5] END estimator__C=0.01, estimator__penalty=l1, estimator__solver=liblinear;, score=(train=0.469, test=0.488) total time=   0.0s\n",
      "[CV 3/5] END estimator__C=0.01, estimator__penalty=l1, estimator__solver=liblinear;, score=(train=0.498, test=0.477) total time=   0.0s\n",
      "[CV 4/5] END estimator__C=0.01, estimator__penalty=l1, estimator__solver=liblinear;, score=(train=0.509, test=0.494) total time=   0.0s\n",
      "[CV 5/5] END estimator__C=0.01, estimator__penalty=l1, estimator__solver=liblinear;, score=(train=0.482, test=0.500) total time=   0.0s\n",
      "[CV 1/5] END estimator__C=0.01, estimator__penalty=l2, estimator__solver=liblinear;, score=(train=0.626, test=0.572) total time=   0.0s\n",
      "[CV 2/5] END estimator__C=0.01, estimator__penalty=l2, estimator__solver=liblinear;, score=(train=0.598, test=0.605) total time=   0.0s\n",
      "[CV 3/5] END estimator__C=0.01, estimator__penalty=l2, estimator__solver=liblinear;, score=(train=0.594, test=0.570) total time=   0.0s\n",
      "[CV 4/5] END estimator__C=0.01, estimator__penalty=l2, estimator__solver=liblinear;, score=(train=0.611, test=0.558) total time=   0.0s\n",
      "[CV 5/5] END estimator__C=0.01, estimator__penalty=l2, estimator__solver=liblinear;, score=(train=0.585, test=0.610) total time=   0.0s\n"
     ]
    },
    {
     "data": {
      "text/html": [
       "<style>#sk-container-id-1 {color: black;background-color: white;}#sk-container-id-1 pre{padding: 0;}#sk-container-id-1 div.sk-toggleable {background-color: white;}#sk-container-id-1 label.sk-toggleable__label {cursor: pointer;display: block;width: 100%;margin-bottom: 0;padding: 0.3em;box-sizing: border-box;text-align: center;}#sk-container-id-1 label.sk-toggleable__label-arrow:before {content: \"▸\";float: left;margin-right: 0.25em;color: #696969;}#sk-container-id-1 label.sk-toggleable__label-arrow:hover:before {color: black;}#sk-container-id-1 div.sk-estimator:hover label.sk-toggleable__label-arrow:before {color: black;}#sk-container-id-1 div.sk-toggleable__content {max-height: 0;max-width: 0;overflow: hidden;text-align: left;background-color: #f0f8ff;}#sk-container-id-1 div.sk-toggleable__content pre {margin: 0.2em;color: black;border-radius: 0.25em;background-color: #f0f8ff;}#sk-container-id-1 input.sk-toggleable__control:checked~div.sk-toggleable__content {max-height: 200px;max-width: 100%;overflow: auto;}#sk-container-id-1 input.sk-toggleable__control:checked~label.sk-toggleable__label-arrow:before {content: \"▾\";}#sk-container-id-1 div.sk-estimator input.sk-toggleable__control:checked~label.sk-toggleable__label {background-color: #d4ebff;}#sk-container-id-1 div.sk-label input.sk-toggleable__control:checked~label.sk-toggleable__label {background-color: #d4ebff;}#sk-container-id-1 input.sk-hidden--visually {border: 0;clip: rect(1px 1px 1px 1px);clip: rect(1px, 1px, 1px, 1px);height: 1px;margin: -1px;overflow: hidden;padding: 0;position: absolute;width: 1px;}#sk-container-id-1 div.sk-estimator {font-family: monospace;background-color: #f0f8ff;border: 1px dotted black;border-radius: 0.25em;box-sizing: border-box;margin-bottom: 0.5em;}#sk-container-id-1 div.sk-estimator:hover {background-color: #d4ebff;}#sk-container-id-1 div.sk-parallel-item::after {content: \"\";width: 100%;border-bottom: 1px solid gray;flex-grow: 1;}#sk-container-id-1 div.sk-label:hover label.sk-toggleable__label {background-color: #d4ebff;}#sk-container-id-1 div.sk-serial::before {content: \"\";position: absolute;border-left: 1px solid gray;box-sizing: border-box;top: 0;bottom: 0;left: 50%;z-index: 0;}#sk-container-id-1 div.sk-serial {display: flex;flex-direction: column;align-items: center;background-color: white;padding-right: 0.2em;padding-left: 0.2em;position: relative;}#sk-container-id-1 div.sk-item {position: relative;z-index: 1;}#sk-container-id-1 div.sk-parallel {display: flex;align-items: stretch;justify-content: center;background-color: white;position: relative;}#sk-container-id-1 div.sk-item::before, #sk-container-id-1 div.sk-parallel-item::before {content: \"\";position: absolute;border-left: 1px solid gray;box-sizing: border-box;top: 0;bottom: 0;left: 50%;z-index: -1;}#sk-container-id-1 div.sk-parallel-item {display: flex;flex-direction: column;z-index: 1;position: relative;background-color: white;}#sk-container-id-1 div.sk-parallel-item:first-child::after {align-self: flex-end;width: 50%;}#sk-container-id-1 div.sk-parallel-item:last-child::after {align-self: flex-start;width: 50%;}#sk-container-id-1 div.sk-parallel-item:only-child::after {width: 0;}#sk-container-id-1 div.sk-dashed-wrapped {border: 1px dashed gray;margin: 0 0.4em 0.5em 0.4em;box-sizing: border-box;padding-bottom: 0.4em;background-color: white;}#sk-container-id-1 div.sk-label label {font-family: monospace;font-weight: bold;display: inline-block;line-height: 1.2em;}#sk-container-id-1 div.sk-label-container {text-align: center;}#sk-container-id-1 div.sk-container {/* jupyter's `normalize.less` sets `[hidden] { display: none; }` but bootstrap.min.css set `[hidden] { display: none !important; }` so we also need the `!important` here to be able to override the default hidden behavior on the sphinx rendered scikit-learn.org. See: https://github.com/scikit-learn/scikit-learn/issues/21755 */display: inline-block !important;position: relative;}#sk-container-id-1 div.sk-text-repr-fallback {display: none;}</style><div id=\"sk-container-id-1\" class=\"sk-top-container\"><div class=\"sk-text-repr-fallback\"><pre>GridSearchCV(cv=5,\n",
       "             estimator=OneVsRestClassifier(estimator=LogisticRegression()),\n",
       "             param_grid=[{&#x27;estimator__C&#x27;: [100, 10, 1.0, 0.1, 0.01],\n",
       "                          &#x27;estimator__penalty&#x27;: [&#x27;l2&#x27;],\n",
       "                          &#x27;estimator__solver&#x27;: [&#x27;newton-cg&#x27;, &#x27;lbfgs&#x27;]},\n",
       "                         {&#x27;estimator__C&#x27;: [100, 10, 1.0, 0.1, 0.01],\n",
       "                          &#x27;estimator__penalty&#x27;: [&#x27;l1&#x27;, &#x27;l2&#x27;],\n",
       "                          &#x27;estimator__solver&#x27;: [&#x27;liblinear&#x27;]}],\n",
       "             return_train_score=True, verbose=3)</pre><b>In a Jupyter environment, please rerun this cell to show the HTML representation or trust the notebook. <br />On GitHub, the HTML representation is unable to render, please try loading this page with nbviewer.org.</b></div><div class=\"sk-container\" hidden><div class=\"sk-item sk-dashed-wrapped\"><div class=\"sk-label-container\"><div class=\"sk-label sk-toggleable\"><input class=\"sk-toggleable__control sk-hidden--visually\" id=\"sk-estimator-id-1\" type=\"checkbox\" ><label for=\"sk-estimator-id-1\" class=\"sk-toggleable__label sk-toggleable__label-arrow\">GridSearchCV</label><div class=\"sk-toggleable__content\"><pre>GridSearchCV(cv=5,\n",
       "             estimator=OneVsRestClassifier(estimator=LogisticRegression()),\n",
       "             param_grid=[{&#x27;estimator__C&#x27;: [100, 10, 1.0, 0.1, 0.01],\n",
       "                          &#x27;estimator__penalty&#x27;: [&#x27;l2&#x27;],\n",
       "                          &#x27;estimator__solver&#x27;: [&#x27;newton-cg&#x27;, &#x27;lbfgs&#x27;]},\n",
       "                         {&#x27;estimator__C&#x27;: [100, 10, 1.0, 0.1, 0.01],\n",
       "                          &#x27;estimator__penalty&#x27;: [&#x27;l1&#x27;, &#x27;l2&#x27;],\n",
       "                          &#x27;estimator__solver&#x27;: [&#x27;liblinear&#x27;]}],\n",
       "             return_train_score=True, verbose=3)</pre></div></div></div><div class=\"sk-parallel\"><div class=\"sk-parallel-item\"><div class=\"sk-item\"><div class=\"sk-label-container\"><div class=\"sk-label sk-toggleable\"><input class=\"sk-toggleable__control sk-hidden--visually\" id=\"sk-estimator-id-2\" type=\"checkbox\" ><label for=\"sk-estimator-id-2\" class=\"sk-toggleable__label sk-toggleable__label-arrow\">estimator: OneVsRestClassifier</label><div class=\"sk-toggleable__content\"><pre>OneVsRestClassifier(estimator=LogisticRegression())</pre></div></div></div><div class=\"sk-serial\"><div class=\"sk-item sk-dashed-wrapped\"><div class=\"sk-parallel\"><div class=\"sk-parallel-item\"><div class=\"sk-item\"><div class=\"sk-label-container\"><div class=\"sk-label sk-toggleable\"><input class=\"sk-toggleable__control sk-hidden--visually\" id=\"sk-estimator-id-3\" type=\"checkbox\" ><label for=\"sk-estimator-id-3\" class=\"sk-toggleable__label sk-toggleable__label-arrow\">estimator: LogisticRegression</label><div class=\"sk-toggleable__content\"><pre>LogisticRegression()</pre></div></div></div><div class=\"sk-serial\"><div class=\"sk-item\"><div class=\"sk-estimator sk-toggleable\"><input class=\"sk-toggleable__control sk-hidden--visually\" id=\"sk-estimator-id-4\" type=\"checkbox\" ><label for=\"sk-estimator-id-4\" class=\"sk-toggleable__label sk-toggleable__label-arrow\">LogisticRegression</label><div class=\"sk-toggleable__content\"><pre>LogisticRegression()</pre></div></div></div></div></div></div></div></div></div></div></div></div></div></div></div>"
      ],
      "text/plain": [
       "GridSearchCV(cv=5,\n",
       "             estimator=OneVsRestClassifier(estimator=LogisticRegression()),\n",
       "             param_grid=[{'estimator__C': [100, 10, 1.0, 0.1, 0.01],\n",
       "                          'estimator__penalty': ['l2'],\n",
       "                          'estimator__solver': ['newton-cg', 'lbfgs']},\n",
       "                         {'estimator__C': [100, 10, 1.0, 0.1, 0.01],\n",
       "                          'estimator__penalty': ['l1', 'l2'],\n",
       "                          'estimator__solver': ['liblinear']}],\n",
       "             return_train_score=True, verbose=3)"
      ]
     },
     "execution_count": 48,
     "metadata": {},
     "output_type": "execute_result"
    }
   ],
   "source": [
    "# search for model with best hyperparameters and cross validate the model\n",
    "# refit fits on whole training data, verbose prints output, cv are cross validation folds\n",
    "lr_grid = GridSearchCV(logreg, lr_params, refit=True, verbose=3, cv=5,\n",
    "                       return_train_score=True)\n",
    "\n",
    "# fitting the model for grid search\n",
    "lr_grid.fit(X_train, y_train)"
   ]
  },
  {
   "cell_type": "code",
   "execution_count": 49,
   "metadata": {
    "colab": {
     "base_uri": "https://localhost:8080/"
    },
    "id": "kqTSsfr76_--",
    "outputId": "4604c8e8-f0de-4760-bb00-30817729037c"
   },
   "outputs": [
    {
     "name": "stdout",
     "output_type": "stream",
     "text": [
      "{'estimator__C': 100, 'estimator__penalty': 'l1', 'estimator__solver': 'liblinear'}\n",
      "OneVsRestClassifier(estimator=LogisticRegression(C=100, penalty='l1',\n",
      "                                                 solver='liblinear'))\n",
      "0.7387216023659093\n"
     ]
    }
   ],
   "source": [
    "# # print best parameter after tuning\n",
    "print(lr_grid.best_params_)\n",
    "\n",
    "# print how our model looks after hyper-parameter tuning\n",
    "print(lr_grid.best_estimator_)\n",
    "\n",
    "# print the best score\n",
    "print(lr_grid.best_score_)"
   ]
  },
  {
   "cell_type": "code",
   "execution_count": 50,
   "metadata": {
    "id": "qptoNCRx7AB3"
   },
   "outputs": [],
   "source": [
    " # fit the data with the best estimator with the best parameters\n",
    "lr_grid.best_estimator_.fit(X_train, y_train)\n",
    "\n",
    "# predict\n",
    "y_pred = lr_grid.best_estimator_.predict(X_test)"
   ]
  },
  {
   "cell_type": "code",
   "execution_count": 51,
   "metadata": {
    "colab": {
     "base_uri": "https://localhost:8080/"
    },
    "id": "tvVENbgb7HXt",
    "outputId": "5cd3e6f3-8d47-48d9-b50c-fc6853ba3476"
   },
   "outputs": [
    {
     "name": "stdout",
     "output_type": "stream",
     "text": [
      "                                precision    recall  f1-score   support\n",
      "\n",
      "                       Healthy       0.75      0.85      0.79        97\n",
      "        Iron deficiency anemia       0.84      0.93      0.88        55\n",
      "                      Leukemia       0.44      0.31      0.36        13\n",
      "Leukemia with thrombocytopenia       0.50      0.33      0.40         3\n",
      "             Macrocytic anemia       0.50      0.40      0.44         5\n",
      " Normocytic hypochromic anemia       0.70      0.74      0.72        81\n",
      "Normocytic normochromic anemia       0.72      0.63      0.67        76\n",
      "       Other microcytic anemia       0.67      0.12      0.20        17\n",
      "              Thrombocytopenia       0.56      0.68      0.61        22\n",
      "\n",
      "                      accuracy                           0.72       369\n",
      "                     macro avg       0.63      0.55      0.56       369\n",
      "                  weighted avg       0.71      0.72      0.70       369\n",
      "\n"
     ]
    }
   ],
   "source": [
    "print(classification_report(y_test, y_pred))"
   ]
  },
  {
   "cell_type": "markdown",
   "metadata": {
    "id": "uoquprJ0-bPe"
   },
   "source": [
    "## Decision Tree"
   ]
  },
  {
   "cell_type": "code",
   "execution_count": 57,
   "metadata": {
    "id": "o8DFp6Oe9xMl"
   },
   "outputs": [],
   "source": [
    "# criterion used to measure quality of split, entropy measures uncertainty in dataset,\n",
    "# gini is probability randomly selected node would be categorized incorrectly, try to minimize both\n",
    "\n",
    "# max depth is the number of levels allowed in decision tree\n",
    "hyperparams = {'estimator__criterion': ['entropy', 'gini'],\n",
    "              'estimator__max_depth': [3,4,5,6,7,8,9,10]}"
   ]
  },
  {
   "cell_type": "code",
   "execution_count": 59,
   "metadata": {
    "id": "RilVgNjq5low"
   },
   "outputs": [],
   "source": [
    "dt = OneVsRestClassifier(DecisionTreeClassifier())"
   ]
  },
  {
   "cell_type": "code",
   "execution_count": 61,
   "metadata": {
    "id": "bAa0fx55UaIX"
   },
   "outputs": [],
   "source": [
    "cv_scores = cross_val_score(dt, X_train, y_train, cv=5)"
   ]
  },
  {
   "cell_type": "code",
   "execution_count": 63,
   "metadata": {
    "colab": {
     "base_uri": "https://localhost:8080/"
    },
    "id": "SKDuYXymUeKc",
    "outputId": "e9c7550a-7ef0-4426-ffdc-e7aeb78fe68c"
   },
   "outputs": [
    {
     "data": {
      "text/plain": [
       "array([0.94219653, 0.97093023, 0.95930233, 0.97093023, 0.97093023])"
      ]
     },
     "execution_count": 63,
     "metadata": {},
     "output_type": "execute_result"
    }
   ],
   "source": [
    "cv_scores"
   ]
  },
  {
   "cell_type": "code",
   "execution_count": 67,
   "metadata": {
    "colab": {
     "base_uri": "https://localhost:8080/",
     "height": 1000
    },
    "id": "oOB-jM6MUZLN",
    "outputId": "11a3cb6b-84d5-4c66-ed46-477331ed9090"
   },
   "outputs": [
    {
     "name": "stdout",
     "output_type": "stream",
     "text": [
      "Fitting 5 folds for each of 16 candidates, totalling 80 fits\n",
      "[CV 1/5] END estimator__criterion=entropy, estimator__max_depth=3;, score=(train=0.997, test=0.954) total time=   0.0s\n",
      "[CV 2/5] END estimator__criterion=entropy, estimator__max_depth=3;, score=(train=0.996, test=0.971) total time=   0.0s\n",
      "[CV 3/5] END estimator__criterion=entropy, estimator__max_depth=3;, score=(train=0.997, test=0.988) total time=   0.0s\n",
      "[CV 4/5] END estimator__criterion=entropy, estimator__max_depth=3;, score=(train=0.999, test=0.988) total time=   0.0s\n",
      "[CV 5/5] END estimator__criterion=entropy, estimator__max_depth=3;, score=(train=0.997, test=0.977) total time=   0.0s\n",
      "[CV 1/5] END estimator__criterion=entropy, estimator__max_depth=4;, score=(train=1.000, test=0.948) total time=   0.0s\n",
      "[CV 2/5] END estimator__criterion=entropy, estimator__max_depth=4;, score=(train=1.000, test=0.965) total time=   0.0s\n",
      "[CV 3/5] END estimator__criterion=entropy, estimator__max_depth=4;, score=(train=1.000, test=0.988) total time=   0.0s\n",
      "[CV 4/5] END estimator__criterion=entropy, estimator__max_depth=4;, score=(train=1.000, test=0.983) total time=   0.0s\n",
      "[CV 5/5] END estimator__criterion=entropy, estimator__max_depth=4;, score=(train=1.000, test=0.971) total time=   0.0s\n",
      "[CV 1/5] END estimator__criterion=entropy, estimator__max_depth=5;, score=(train=1.000, test=0.948) total time=   0.0s\n",
      "[CV 2/5] END estimator__criterion=entropy, estimator__max_depth=5;, score=(train=1.000, test=0.971) total time=   0.0s\n",
      "[CV 3/5] END estimator__criterion=entropy, estimator__max_depth=5;, score=(train=1.000, test=0.983) total time=   0.0s\n",
      "[CV 4/5] END estimator__criterion=entropy, estimator__max_depth=5;, score=(train=1.000, test=0.971) total time=   0.0s\n",
      "[CV 5/5] END estimator__criterion=entropy, estimator__max_depth=5;, score=(train=1.000, test=0.948) total time=   0.0s\n",
      "[CV 1/5] END estimator__criterion=entropy, estimator__max_depth=6;, score=(train=1.000, test=0.948) total time=   0.0s\n",
      "[CV 2/5] END estimator__criterion=entropy, estimator__max_depth=6;, score=(train=1.000, test=0.965) total time=   0.0s\n",
      "[CV 3/5] END estimator__criterion=entropy, estimator__max_depth=6;, score=(train=1.000, test=0.983) total time=   0.0s\n",
      "[CV 4/5] END estimator__criterion=entropy, estimator__max_depth=6;, score=(train=1.000, test=0.977) total time=   0.0s\n",
      "[CV 5/5] END estimator__criterion=entropy, estimator__max_depth=6;, score=(train=1.000, test=0.977) total time=   0.0s\n",
      "[CV 1/5] END estimator__criterion=entropy, estimator__max_depth=7;, score=(train=1.000, test=0.948) total time=   0.0s\n",
      "[CV 2/5] END estimator__criterion=entropy, estimator__max_depth=7;, score=(train=1.000, test=0.971) total time=   0.0s\n",
      "[CV 3/5] END estimator__criterion=entropy, estimator__max_depth=7;, score=(train=1.000, test=0.983) total time=   0.0s\n",
      "[CV 4/5] END estimator__criterion=entropy, estimator__max_depth=7;, score=(train=1.000, test=0.977) total time=   0.0s\n",
      "[CV 5/5] END estimator__criterion=entropy, estimator__max_depth=7;, score=(train=1.000, test=0.948) total time=   0.0s\n",
      "[CV 1/5] END estimator__criterion=entropy, estimator__max_depth=8;, score=(train=1.000, test=0.942) total time=   0.0s\n",
      "[CV 2/5] END estimator__criterion=entropy, estimator__max_depth=8;, score=(train=1.000, test=0.971) total time=   0.0s\n",
      "[CV 3/5] END estimator__criterion=entropy, estimator__max_depth=8;, score=(train=1.000, test=0.983) total time=   0.0s\n",
      "[CV 4/5] END estimator__criterion=entropy, estimator__max_depth=8;, score=(train=1.000, test=0.983) total time=   0.0s\n",
      "[CV 5/5] END estimator__criterion=entropy, estimator__max_depth=8;, score=(train=1.000, test=0.971) total time=   0.0s\n",
      "[CV 1/5] END estimator__criterion=entropy, estimator__max_depth=9;, score=(train=1.000, test=0.948) total time=   0.0s\n",
      "[CV 2/5] END estimator__criterion=entropy, estimator__max_depth=9;, score=(train=1.000, test=0.971) total time=   0.0s\n",
      "[CV 3/5] END estimator__criterion=entropy, estimator__max_depth=9;, score=(train=1.000, test=0.988) total time=   0.0s\n",
      "[CV 4/5] END estimator__criterion=entropy, estimator__max_depth=9;, score=(train=1.000, test=0.977) total time=   0.0s\n",
      "[CV 5/5] END estimator__criterion=entropy, estimator__max_depth=9;, score=(train=1.000, test=0.971) total time=   0.0s\n",
      "[CV 1/5] END estimator__criterion=entropy, estimator__max_depth=10;, score=(train=1.000, test=0.948) total time=   0.0s\n",
      "[CV 2/5] END estimator__criterion=entropy, estimator__max_depth=10;, score=(train=1.000, test=0.965) total time=   0.0s\n",
      "[CV 3/5] END estimator__criterion=entropy, estimator__max_depth=10;, score=(train=1.000, test=0.988) total time=   0.0s\n",
      "[CV 4/5] END estimator__criterion=entropy, estimator__max_depth=10;, score=(train=1.000, test=0.977) total time=   0.0s\n",
      "[CV 5/5] END estimator__criterion=entropy, estimator__max_depth=10;, score=(train=1.000, test=0.971) total time=   0.0s\n",
      "[CV 1/5] END estimator__criterion=gini, estimator__max_depth=3;, score=(train=0.997, test=0.954) total time=   0.0s\n",
      "[CV 2/5] END estimator__criterion=gini, estimator__max_depth=3;, score=(train=0.996, test=0.977) total time=   0.0s\n",
      "[CV 3/5] END estimator__criterion=gini, estimator__max_depth=3;, score=(train=0.997, test=0.965) total time=   0.0s\n",
      "[CV 4/5] END estimator__criterion=gini, estimator__max_depth=3;, score=(train=0.999, test=0.971) total time=   0.0s\n",
      "[CV 5/5] END estimator__criterion=gini, estimator__max_depth=3;, score=(train=0.997, test=0.971) total time=   0.0s\n",
      "[CV 1/5] END estimator__criterion=gini, estimator__max_depth=4;, score=(train=1.000, test=0.948) total time=   0.0s\n",
      "[CV 2/5] END estimator__criterion=gini, estimator__max_depth=4;, score=(train=1.000, test=0.983) total time=   0.0s\n",
      "[CV 3/5] END estimator__criterion=gini, estimator__max_depth=4;, score=(train=1.000, test=0.971) total time=   0.0s\n",
      "[CV 4/5] END estimator__criterion=gini, estimator__max_depth=4;, score=(train=1.000, test=0.971) total time=   0.0s\n",
      "[CV 5/5] END estimator__criterion=gini, estimator__max_depth=4;, score=(train=1.000, test=0.953) total time=   0.0s\n",
      "[CV 1/5] END estimator__criterion=gini, estimator__max_depth=5;, score=(train=1.000, test=0.948) total time=   0.0s\n",
      "[CV 2/5] END estimator__criterion=gini, estimator__max_depth=5;, score=(train=1.000, test=0.971) total time=   0.0s\n",
      "[CV 3/5] END estimator__criterion=gini, estimator__max_depth=5;, score=(train=1.000, test=0.977) total time=   0.0s\n",
      "[CV 4/5] END estimator__criterion=gini, estimator__max_depth=5;, score=(train=1.000, test=0.971) total time=   0.0s\n",
      "[CV 5/5] END estimator__criterion=gini, estimator__max_depth=5;, score=(train=1.000, test=0.948) total time=   0.0s\n",
      "[CV 1/5] END estimator__criterion=gini, estimator__max_depth=6;, score=(train=1.000, test=0.948) total time=   0.0s\n",
      "[CV 2/5] END estimator__criterion=gini, estimator__max_depth=6;, score=(train=1.000, test=0.965) total time=   0.0s\n",
      "[CV 3/5] END estimator__criterion=gini, estimator__max_depth=6;, score=(train=1.000, test=0.959) total time=   0.0s\n",
      "[CV 4/5] END estimator__criterion=gini, estimator__max_depth=6;, score=(train=1.000, test=0.971) total time=   0.0s\n",
      "[CV 5/5] END estimator__criterion=gini, estimator__max_depth=6;, score=(train=1.000, test=0.948) total time=   0.0s\n",
      "[CV 1/5] END estimator__criterion=gini, estimator__max_depth=7;, score=(train=1.000, test=0.942) total time=   0.0s\n",
      "[CV 2/5] END estimator__criterion=gini, estimator__max_depth=7;, score=(train=1.000, test=0.971) total time=   0.0s\n",
      "[CV 3/5] END estimator__criterion=gini, estimator__max_depth=7;, score=(train=1.000, test=0.971) total time=   0.0s\n",
      "[CV 4/5] END estimator__criterion=gini, estimator__max_depth=7;, score=(train=1.000, test=0.971) total time=   0.0s\n",
      "[CV 5/5] END estimator__criterion=gini, estimator__max_depth=7;, score=(train=1.000, test=0.971) total time=   0.0s\n",
      "[CV 1/5] END estimator__criterion=gini, estimator__max_depth=8;, score=(train=1.000, test=0.942) total time=   0.0s\n",
      "[CV 2/5] END estimator__criterion=gini, estimator__max_depth=8;, score=(train=1.000, test=0.971) total time=   0.0s\n",
      "[CV 3/5] END estimator__criterion=gini, estimator__max_depth=8;, score=(train=1.000, test=0.977) total time=   0.0s\n",
      "[CV 4/5] END estimator__criterion=gini, estimator__max_depth=8;, score=(train=1.000, test=0.971) total time=   0.0s\n",
      "[CV 5/5] END estimator__criterion=gini, estimator__max_depth=8;, score=(train=1.000, test=0.948) total time=   0.0s\n",
      "[CV 1/5] END estimator__criterion=gini, estimator__max_depth=9;, score=(train=1.000, test=0.942) total time=   0.0s\n",
      "[CV 2/5] END estimator__criterion=gini, estimator__max_depth=9;, score=(train=1.000, test=0.965) total time=   0.0s\n",
      "[CV 3/5] END estimator__criterion=gini, estimator__max_depth=9;, score=(train=1.000, test=0.977) total time=   0.0s\n",
      "[CV 4/5] END estimator__criterion=gini, estimator__max_depth=9;, score=(train=1.000, test=0.971) total time=   0.0s\n",
      "[CV 5/5] END estimator__criterion=gini, estimator__max_depth=9;, score=(train=1.000, test=0.971) total time=   0.0s\n",
      "[CV 1/5] END estimator__criterion=gini, estimator__max_depth=10;, score=(train=1.000, test=0.942) total time=   0.0s\n",
      "[CV 2/5] END estimator__criterion=gini, estimator__max_depth=10;, score=(train=1.000, test=0.971) total time=   0.0s\n",
      "[CV 3/5] END estimator__criterion=gini, estimator__max_depth=10;, score=(train=1.000, test=0.971) total time=   0.0s\n",
      "[CV 4/5] END estimator__criterion=gini, estimator__max_depth=10;, score=(train=1.000, test=0.971) total time=   0.0s\n",
      "[CV 5/5] END estimator__criterion=gini, estimator__max_depth=10;, score=(train=1.000, test=0.971) total time=   0.0s\n"
     ]
    },
    {
     "data": {
      "text/html": [
       "<style>#sk-container-id-3 {color: black;background-color: white;}#sk-container-id-3 pre{padding: 0;}#sk-container-id-3 div.sk-toggleable {background-color: white;}#sk-container-id-3 label.sk-toggleable__label {cursor: pointer;display: block;width: 100%;margin-bottom: 0;padding: 0.3em;box-sizing: border-box;text-align: center;}#sk-container-id-3 label.sk-toggleable__label-arrow:before {content: \"▸\";float: left;margin-right: 0.25em;color: #696969;}#sk-container-id-3 label.sk-toggleable__label-arrow:hover:before {color: black;}#sk-container-id-3 div.sk-estimator:hover label.sk-toggleable__label-arrow:before {color: black;}#sk-container-id-3 div.sk-toggleable__content {max-height: 0;max-width: 0;overflow: hidden;text-align: left;background-color: #f0f8ff;}#sk-container-id-3 div.sk-toggleable__content pre {margin: 0.2em;color: black;border-radius: 0.25em;background-color: #f0f8ff;}#sk-container-id-3 input.sk-toggleable__control:checked~div.sk-toggleable__content {max-height: 200px;max-width: 100%;overflow: auto;}#sk-container-id-3 input.sk-toggleable__control:checked~label.sk-toggleable__label-arrow:before {content: \"▾\";}#sk-container-id-3 div.sk-estimator input.sk-toggleable__control:checked~label.sk-toggleable__label {background-color: #d4ebff;}#sk-container-id-3 div.sk-label input.sk-toggleable__control:checked~label.sk-toggleable__label {background-color: #d4ebff;}#sk-container-id-3 input.sk-hidden--visually {border: 0;clip: rect(1px 1px 1px 1px);clip: rect(1px, 1px, 1px, 1px);height: 1px;margin: -1px;overflow: hidden;padding: 0;position: absolute;width: 1px;}#sk-container-id-3 div.sk-estimator {font-family: monospace;background-color: #f0f8ff;border: 1px dotted black;border-radius: 0.25em;box-sizing: border-box;margin-bottom: 0.5em;}#sk-container-id-3 div.sk-estimator:hover {background-color: #d4ebff;}#sk-container-id-3 div.sk-parallel-item::after {content: \"\";width: 100%;border-bottom: 1px solid gray;flex-grow: 1;}#sk-container-id-3 div.sk-label:hover label.sk-toggleable__label {background-color: #d4ebff;}#sk-container-id-3 div.sk-serial::before {content: \"\";position: absolute;border-left: 1px solid gray;box-sizing: border-box;top: 0;bottom: 0;left: 50%;z-index: 0;}#sk-container-id-3 div.sk-serial {display: flex;flex-direction: column;align-items: center;background-color: white;padding-right: 0.2em;padding-left: 0.2em;position: relative;}#sk-container-id-3 div.sk-item {position: relative;z-index: 1;}#sk-container-id-3 div.sk-parallel {display: flex;align-items: stretch;justify-content: center;background-color: white;position: relative;}#sk-container-id-3 div.sk-item::before, #sk-container-id-3 div.sk-parallel-item::before {content: \"\";position: absolute;border-left: 1px solid gray;box-sizing: border-box;top: 0;bottom: 0;left: 50%;z-index: -1;}#sk-container-id-3 div.sk-parallel-item {display: flex;flex-direction: column;z-index: 1;position: relative;background-color: white;}#sk-container-id-3 div.sk-parallel-item:first-child::after {align-self: flex-end;width: 50%;}#sk-container-id-3 div.sk-parallel-item:last-child::after {align-self: flex-start;width: 50%;}#sk-container-id-3 div.sk-parallel-item:only-child::after {width: 0;}#sk-container-id-3 div.sk-dashed-wrapped {border: 1px dashed gray;margin: 0 0.4em 0.5em 0.4em;box-sizing: border-box;padding-bottom: 0.4em;background-color: white;}#sk-container-id-3 div.sk-label label {font-family: monospace;font-weight: bold;display: inline-block;line-height: 1.2em;}#sk-container-id-3 div.sk-label-container {text-align: center;}#sk-container-id-3 div.sk-container {/* jupyter's `normalize.less` sets `[hidden] { display: none; }` but bootstrap.min.css set `[hidden] { display: none !important; }` so we also need the `!important` here to be able to override the default hidden behavior on the sphinx rendered scikit-learn.org. See: https://github.com/scikit-learn/scikit-learn/issues/21755 */display: inline-block !important;position: relative;}#sk-container-id-3 div.sk-text-repr-fallback {display: none;}</style><div id=\"sk-container-id-3\" class=\"sk-top-container\"><div class=\"sk-text-repr-fallback\"><pre>GridSearchCV(cv=5,\n",
       "             estimator=OneVsRestClassifier(estimator=DecisionTreeClassifier()),\n",
       "             param_grid={&#x27;estimator__criterion&#x27;: [&#x27;entropy&#x27;, &#x27;gini&#x27;],\n",
       "                         &#x27;estimator__max_depth&#x27;: [3, 4, 5, 6, 7, 8, 9, 10]},\n",
       "             return_train_score=True, verbose=3)</pre><b>In a Jupyter environment, please rerun this cell to show the HTML representation or trust the notebook. <br />On GitHub, the HTML representation is unable to render, please try loading this page with nbviewer.org.</b></div><div class=\"sk-container\" hidden><div class=\"sk-item sk-dashed-wrapped\"><div class=\"sk-label-container\"><div class=\"sk-label sk-toggleable\"><input class=\"sk-toggleable__control sk-hidden--visually\" id=\"sk-estimator-id-9\" type=\"checkbox\" ><label for=\"sk-estimator-id-9\" class=\"sk-toggleable__label sk-toggleable__label-arrow\">GridSearchCV</label><div class=\"sk-toggleable__content\"><pre>GridSearchCV(cv=5,\n",
       "             estimator=OneVsRestClassifier(estimator=DecisionTreeClassifier()),\n",
       "             param_grid={&#x27;estimator__criterion&#x27;: [&#x27;entropy&#x27;, &#x27;gini&#x27;],\n",
       "                         &#x27;estimator__max_depth&#x27;: [3, 4, 5, 6, 7, 8, 9, 10]},\n",
       "             return_train_score=True, verbose=3)</pre></div></div></div><div class=\"sk-parallel\"><div class=\"sk-parallel-item\"><div class=\"sk-item\"><div class=\"sk-label-container\"><div class=\"sk-label sk-toggleable\"><input class=\"sk-toggleable__control sk-hidden--visually\" id=\"sk-estimator-id-10\" type=\"checkbox\" ><label for=\"sk-estimator-id-10\" class=\"sk-toggleable__label sk-toggleable__label-arrow\">estimator: OneVsRestClassifier</label><div class=\"sk-toggleable__content\"><pre>OneVsRestClassifier(estimator=DecisionTreeClassifier())</pre></div></div></div><div class=\"sk-serial\"><div class=\"sk-item sk-dashed-wrapped\"><div class=\"sk-parallel\"><div class=\"sk-parallel-item\"><div class=\"sk-item\"><div class=\"sk-label-container\"><div class=\"sk-label sk-toggleable\"><input class=\"sk-toggleable__control sk-hidden--visually\" id=\"sk-estimator-id-11\" type=\"checkbox\" ><label for=\"sk-estimator-id-11\" class=\"sk-toggleable__label sk-toggleable__label-arrow\">estimator: DecisionTreeClassifier</label><div class=\"sk-toggleable__content\"><pre>DecisionTreeClassifier()</pre></div></div></div><div class=\"sk-serial\"><div class=\"sk-item\"><div class=\"sk-estimator sk-toggleable\"><input class=\"sk-toggleable__control sk-hidden--visually\" id=\"sk-estimator-id-12\" type=\"checkbox\" ><label for=\"sk-estimator-id-12\" class=\"sk-toggleable__label sk-toggleable__label-arrow\">DecisionTreeClassifier</label><div class=\"sk-toggleable__content\"><pre>DecisionTreeClassifier()</pre></div></div></div></div></div></div></div></div></div></div></div></div></div></div></div>"
      ],
      "text/plain": [
       "GridSearchCV(cv=5,\n",
       "             estimator=OneVsRestClassifier(estimator=DecisionTreeClassifier()),\n",
       "             param_grid={'estimator__criterion': ['entropy', 'gini'],\n",
       "                         'estimator__max_depth': [3, 4, 5, 6, 7, 8, 9, 10]},\n",
       "             return_train_score=True, verbose=3)"
      ]
     },
     "execution_count": 67,
     "metadata": {},
     "output_type": "execute_result"
    }
   ],
   "source": [
    "dt_grid = GridSearchCV(dt, hyperparams, refit=True, verbose=3, cv=5,\n",
    "                       return_train_score=True)\n",
    "dt_grid.fit(X_train, y_train)"
   ]
  },
  {
   "cell_type": "code",
   "execution_count": 69,
   "metadata": {
    "colab": {
     "base_uri": "https://localhost:8080/"
    },
    "id": "-RLT2zi55zUr",
    "outputId": "95c73870-1b8e-4bf5-cbde-e414b0c3cf55"
   },
   "outputs": [
    {
     "name": "stdout",
     "output_type": "stream",
     "text": [
      "{'estimator__criterion': 'entropy', 'estimator__max_depth': 3}\n",
      "OneVsRestClassifier(estimator=DecisionTreeClassifier(criterion='entropy',\n",
      "                                                     max_depth=3))\n",
      "0.9756351660169378\n"
     ]
    }
   ],
   "source": [
    "# print best parameter after tuning\n",
    "print(dt_grid.best_params_)\n",
    "\n",
    "# print how our model looks after hyper-parameter tuning\n",
    "print(dt_grid.best_estimator_)\n",
    "\n",
    "# print the best score -- this is not accuracy score, rather a built in way in GridSearchCV for calculating scores\n",
    "print(dt_grid.best_score_)"
   ]
  },
  {
   "cell_type": "code",
   "execution_count": 71,
   "metadata": {
    "id": "3Y0s1qv26FS1"
   },
   "outputs": [],
   "source": [
    "dt_grid.best_estimator_.fit(X_train, y_train)\n",
    "\n",
    "# predict\n",
    "y_pred = dt_grid.best_estimator_.predict(X_test)"
   ]
  },
  {
   "cell_type": "code",
   "execution_count": 73,
   "metadata": {
    "colab": {
     "base_uri": "https://localhost:8080/"
    },
    "id": "mFjzW3LH6Rmn",
    "outputId": "3d369518-2b75-42f1-8e50-4c0deba744c8"
   },
   "outputs": [
    {
     "name": "stdout",
     "output_type": "stream",
     "text": [
      "                                precision    recall  f1-score   support\n",
      "\n",
      "                       Healthy       0.99      0.99      0.99        97\n",
      "        Iron deficiency anemia       1.00      0.96      0.98        55\n",
      "                      Leukemia       0.92      0.92      0.92        13\n",
      "Leukemia with thrombocytopenia       0.67      0.67      0.67         3\n",
      "             Macrocytic anemia       1.00      1.00      1.00         5\n",
      " Normocytic hypochromic anemia       1.00      1.00      1.00        81\n",
      "Normocytic normochromic anemia       1.00      0.99      0.99        76\n",
      "       Other microcytic anemia       0.89      1.00      0.94        17\n",
      "              Thrombocytopenia       0.96      1.00      0.98        22\n",
      "\n",
      "                      accuracy                           0.98       369\n",
      "                     macro avg       0.94      0.95      0.94       369\n",
      "                  weighted avg       0.98      0.98      0.98       369\n",
      "\n"
     ]
    }
   ],
   "source": [
    "print(classification_report(y_test, y_pred))"
   ]
  },
  {
   "cell_type": "code",
   "execution_count": 75,
   "metadata": {
    "colab": {
     "base_uri": "https://localhost:8080/"
    },
    "id": "5MLwXGdy5DfG",
    "outputId": "03ab87e4-f14d-4f89-87a1-b3a0fb3b3e6a"
   },
   "outputs": [
    {
     "name": "stdout",
     "output_type": "stream",
     "text": [
      "Feature importances for class Healthy:\n",
      "WBC: 0.1846\n",
      "HGB: 0.6196\n",
      "PLT: 0.1958\n",
      "Feature importances for class Iron deficiency anemia:\n",
      "MCV: 0.1261\n",
      "MCH: 0.7953\n",
      "MCHC: 0.0786\n",
      "Feature importances for class Leukemia:\n",
      "WBC: 0.5334\n",
      "HGB: 0.2959\n",
      "PLT: 0.1706\n",
      "Feature importances for class Leukemia with thrombocytopenia:\n",
      "WBC: 0.4443\n",
      "HGB: 0.1671\n",
      "PLT: 0.3886\n",
      "Feature importances for class Macrocytic anemia:\n",
      "HGB: 0.2042\n",
      "MCV: 0.7958\n",
      "Feature importances for class Normocytic hypochromic anemia:\n",
      "HGB: 0.2861\n",
      "MCV: 0.3324\n",
      "MCH: 0.0881\n",
      "MCHC: 0.2933\n",
      "Feature importances for class Normocytic normochromic anemia:\n",
      "LYMn: 0.0126\n",
      "HGB: 0.4469\n",
      "MCH: 0.2325\n",
      "MCHC: 0.308\n",
      "Feature importances for class Other microcytic anemia:\n",
      "HGB: 0.0469\n",
      "MCV: 0.4326\n",
      "MCH: 0.0665\n",
      "MCHC: 0.454\n",
      "Feature importances for class Thrombocytopenia:\n",
      "WBC: 0.1284\n",
      "HGB: 0.3756\n",
      "PLT: 0.496\n"
     ]
    }
   ],
   "source": [
    "feature_df = pd.DataFrame()\n",
    "\n",
    "for idx, classifier in enumerate(dt_grid.best_estimator_.estimators_):\n",
    "    print(f\"Feature importances for class {dt_grid.best_estimator_.classes_[idx]}:\")\n",
    "    for feature_name, importance in zip(X.columns, classifier.feature_importances_):\n",
    "      if importance > 0:\n",
    "        print(f\"{feature_name}: {round(importance, 4)}\")"
   ]
  },
  {
   "cell_type": "code",
   "execution_count": 77,
   "metadata": {
    "id": "cXj5eqwQ8OEI"
   },
   "outputs": [],
   "source": [
    "feature_dict = defaultdict(list)\n",
    "\n",
    "for idx, classifier in enumerate(dt_grid.best_estimator_.estimators_):\n",
    "    class_name = dt_grid.best_estimator_.classes_[idx]\n",
    "    #print(f\"Feature importances for class {class_name}:\")\n",
    "\n",
    "    for feature, importance in zip(X.columns, classifier.feature_importances_):\n",
    "      feature_dict['Feature'].append(feature)\n",
    "      feature_dict['Class'].append(class_name)\n",
    "      feature_dict['Importance'].append(importance)\n",
    "      #if importance > 0:\n",
    "      #    print(f\"{feature}: {round(importance, 4)}\")\n",
    "\n",
    "feature_df = pd.DataFrame(feature_dict)"
   ]
  },
  {
   "cell_type": "code",
   "execution_count": 79,
   "metadata": {
    "colab": {
     "base_uri": "https://localhost:8080/",
     "height": 206
    },
    "id": "TguCHcIa8Wy9",
    "outputId": "7e01d427-729d-4848-f91f-f6f6939634b8"
   },
   "outputs": [
    {
     "data": {
      "text/html": [
       "<div>\n",
       "<style scoped>\n",
       "    .dataframe tbody tr th:only-of-type {\n",
       "        vertical-align: middle;\n",
       "    }\n",
       "\n",
       "    .dataframe tbody tr th {\n",
       "        vertical-align: top;\n",
       "    }\n",
       "\n",
       "    .dataframe thead th {\n",
       "        text-align: right;\n",
       "    }\n",
       "</style>\n",
       "<table border=\"1\" class=\"dataframe\">\n",
       "  <thead>\n",
       "    <tr style=\"text-align: right;\">\n",
       "      <th></th>\n",
       "      <th>Feature</th>\n",
       "      <th>Class</th>\n",
       "      <th>Importance</th>\n",
       "    </tr>\n",
       "  </thead>\n",
       "  <tbody>\n",
       "    <tr>\n",
       "      <th>0</th>\n",
       "      <td>WBC</td>\n",
       "      <td>Healthy</td>\n",
       "      <td>0.184578</td>\n",
       "    </tr>\n",
       "    <tr>\n",
       "      <th>1</th>\n",
       "      <td>LYMp</td>\n",
       "      <td>Healthy</td>\n",
       "      <td>0.000000</td>\n",
       "    </tr>\n",
       "    <tr>\n",
       "      <th>2</th>\n",
       "      <td>NEUTp</td>\n",
       "      <td>Healthy</td>\n",
       "      <td>0.000000</td>\n",
       "    </tr>\n",
       "    <tr>\n",
       "      <th>3</th>\n",
       "      <td>LYMn</td>\n",
       "      <td>Healthy</td>\n",
       "      <td>0.000000</td>\n",
       "    </tr>\n",
       "    <tr>\n",
       "      <th>4</th>\n",
       "      <td>NEUTn</td>\n",
       "      <td>Healthy</td>\n",
       "      <td>0.000000</td>\n",
       "    </tr>\n",
       "  </tbody>\n",
       "</table>\n",
       "</div>"
      ],
      "text/plain": [
       "  Feature    Class  Importance\n",
       "0     WBC  Healthy    0.184578\n",
       "1    LYMp  Healthy    0.000000\n",
       "2   NEUTp  Healthy    0.000000\n",
       "3    LYMn  Healthy    0.000000\n",
       "4   NEUTn  Healthy    0.000000"
      ]
     },
     "execution_count": 79,
     "metadata": {},
     "output_type": "execute_result"
    }
   ],
   "source": [
    "feature_df.head()"
   ]
  },
  {
   "cell_type": "code",
   "execution_count": 81,
   "metadata": {
    "id": "52qXV3qQ_o-H"
   },
   "outputs": [],
   "source": [
    "stacked = alt.Chart(feature_df).mark_bar().encode(\n",
    "    x=alt.X('sum(Importance)', title='Feature Importance'),\n",
    "    y=alt.Y('Feature', sort='-x'),\n",
    "    color=alt.Color('Class:N', title='Class'),\n",
    "    tooltip=['Class', 'Importance']\n",
    ").properties(\n",
    "    title='Feature Importances for Decision Tree',\n",
    "    width=600,\n",
    "    height=300\n",
    ")"
   ]
  },
  {
   "cell_type": "code",
   "execution_count": 83,
   "metadata": {
    "colab": {
     "base_uri": "https://localhost:8080/",
     "height": 469
    },
    "id": "B7hGycbnUroM",
    "outputId": "31051d60-9f24-42e7-f031-6626694df840"
   },
   "outputs": [
    {
     "name": "stderr",
     "output_type": "stream",
     "text": [
      "/opt/homebrew/anaconda3/lib/python3.11/site-packages/altair/utils/core.py:395: FutureWarning: the convert_dtype parameter is deprecated and will be removed in a future version.  Do ``ser.astype(object).apply()`` instead if you want ``convert_dtype=False``.\n",
      "  col = df[col_name].apply(to_list_if_array, convert_dtype=False)\n"
     ]
    },
    {
     "data": {
      "text/html": [
       "\n",
       "<style>\n",
       "  #altair-viz-f98eede43f24401ab3a579df85d222f6.vega-embed {\n",
       "    width: 100%;\n",
       "    display: flex;\n",
       "  }\n",
       "\n",
       "  #altair-viz-f98eede43f24401ab3a579df85d222f6.vega-embed details,\n",
       "  #altair-viz-f98eede43f24401ab3a579df85d222f6.vega-embed details summary {\n",
       "    position: relative;\n",
       "  }\n",
       "</style>\n",
       "<div id=\"altair-viz-f98eede43f24401ab3a579df85d222f6\"></div>\n",
       "<script type=\"text/javascript\">\n",
       "  var VEGA_DEBUG = (typeof VEGA_DEBUG == \"undefined\") ? {} : VEGA_DEBUG;\n",
       "  (function(spec, embedOpt){\n",
       "    let outputDiv = document.currentScript.previousElementSibling;\n",
       "    if (outputDiv.id !== \"altair-viz-f98eede43f24401ab3a579df85d222f6\") {\n",
       "      outputDiv = document.getElementById(\"altair-viz-f98eede43f24401ab3a579df85d222f6\");\n",
       "    }\n",
       "    const paths = {\n",
       "      \"vega\": \"https://cdn.jsdelivr.net/npm/vega@5?noext\",\n",
       "      \"vega-lib\": \"https://cdn.jsdelivr.net/npm/vega-lib?noext\",\n",
       "      \"vega-lite\": \"https://cdn.jsdelivr.net/npm/vega-lite@5.8.0?noext\",\n",
       "      \"vega-embed\": \"https://cdn.jsdelivr.net/npm/vega-embed@6?noext\",\n",
       "    };\n",
       "\n",
       "    function maybeLoadScript(lib, version) {\n",
       "      var key = `${lib.replace(\"-\", \"\")}_version`;\n",
       "      return (VEGA_DEBUG[key] == version) ?\n",
       "        Promise.resolve(paths[lib]) :\n",
       "        new Promise(function(resolve, reject) {\n",
       "          var s = document.createElement('script');\n",
       "          document.getElementsByTagName(\"head\")[0].appendChild(s);\n",
       "          s.async = true;\n",
       "          s.onload = () => {\n",
       "            VEGA_DEBUG[key] = version;\n",
       "            return resolve(paths[lib]);\n",
       "          };\n",
       "          s.onerror = () => reject(`Error loading script: ${paths[lib]}`);\n",
       "          s.src = paths[lib];\n",
       "        });\n",
       "    }\n",
       "\n",
       "    function showError(err) {\n",
       "      outputDiv.innerHTML = `<div class=\"error\" style=\"color:red;\">${err}</div>`;\n",
       "      throw err;\n",
       "    }\n",
       "\n",
       "    function displayChart(vegaEmbed) {\n",
       "      vegaEmbed(outputDiv, spec, embedOpt)\n",
       "        .catch(err => showError(`Javascript Error: ${err.message}<br>This usually means there's a typo in your chart specification. See the javascript console for the full traceback.`));\n",
       "    }\n",
       "\n",
       "    if(typeof define === \"function\" && define.amd) {\n",
       "      requirejs.config({paths});\n",
       "      require([\"vega-embed\"], displayChart, err => showError(`Error loading script: ${err.message}`));\n",
       "    } else {\n",
       "      maybeLoadScript(\"vega\", \"5\")\n",
       "        .then(() => maybeLoadScript(\"vega-lite\", \"5.8.0\"))\n",
       "        .then(() => maybeLoadScript(\"vega-embed\", \"6\"))\n",
       "        .catch(showError)\n",
       "        .then(() => displayChart(vegaEmbed));\n",
       "    }\n",
       "  })({\"config\": {\"view\": {\"continuousWidth\": 300, \"continuousHeight\": 300}}, \"data\": {\"name\": \"data-ba6ac929f40327f19681da4640439f89\"}, \"mark\": {\"type\": \"bar\"}, \"encoding\": {\"color\": {\"field\": \"Class\", \"title\": \"Class\", \"type\": \"nominal\"}, \"tooltip\": [{\"field\": \"Class\", \"type\": \"nominal\"}, {\"field\": \"Importance\", \"type\": \"quantitative\"}], \"x\": {\"aggregate\": \"sum\", \"field\": \"Importance\", \"title\": \"Feature Importance\", \"type\": \"quantitative\"}, \"y\": {\"field\": \"Feature\", \"sort\": \"-x\", \"type\": \"nominal\"}}, \"height\": 300, \"title\": \"Feature Importances for Decision Tree\", \"width\": 600, \"$schema\": \"https://vega.github.io/schema/vega-lite/v5.8.0.json\", \"datasets\": {\"data-ba6ac929f40327f19681da4640439f89\": [{\"Feature\": \"WBC\", \"Class\": \"Healthy\", \"Importance\": 0.18457821190284787}, {\"Feature\": \"LYMp\", \"Class\": \"Healthy\", \"Importance\": 0.0}, {\"Feature\": \"NEUTp\", \"Class\": \"Healthy\", \"Importance\": 0.0}, {\"Feature\": \"LYMn\", \"Class\": \"Healthy\", \"Importance\": 0.0}, {\"Feature\": \"NEUTn\", \"Class\": \"Healthy\", \"Importance\": 0.0}, {\"Feature\": \"RBC\", \"Class\": \"Healthy\", \"Importance\": 0.0}, {\"Feature\": \"HGB\", \"Class\": \"Healthy\", \"Importance\": 0.6195848443485195}, {\"Feature\": \"HCT\", \"Class\": \"Healthy\", \"Importance\": 0.0}, {\"Feature\": \"MCV\", \"Class\": \"Healthy\", \"Importance\": 0.0}, {\"Feature\": \"MCH\", \"Class\": \"Healthy\", \"Importance\": 0.0}, {\"Feature\": \"MCHC\", \"Class\": \"Healthy\", \"Importance\": 0.0}, {\"Feature\": \"PLT\", \"Class\": \"Healthy\", \"Importance\": 0.1958369437486327}, {\"Feature\": \"PDW\", \"Class\": \"Healthy\", \"Importance\": 0.0}, {\"Feature\": \"PCT\", \"Class\": \"Healthy\", \"Importance\": 0.0}, {\"Feature\": \"WBC\", \"Class\": \"Iron deficiency anemia\", \"Importance\": 0.0}, {\"Feature\": \"LYMp\", \"Class\": \"Iron deficiency anemia\", \"Importance\": 0.0}, {\"Feature\": \"NEUTp\", \"Class\": \"Iron deficiency anemia\", \"Importance\": 0.0}, {\"Feature\": \"LYMn\", \"Class\": \"Iron deficiency anemia\", \"Importance\": 0.0}, {\"Feature\": \"NEUTn\", \"Class\": \"Iron deficiency anemia\", \"Importance\": 0.0}, {\"Feature\": \"RBC\", \"Class\": \"Iron deficiency anemia\", \"Importance\": 0.0}, {\"Feature\": \"HGB\", \"Class\": \"Iron deficiency anemia\", \"Importance\": 0.0}, {\"Feature\": \"HCT\", \"Class\": \"Iron deficiency anemia\", \"Importance\": 0.0}, {\"Feature\": \"MCV\", \"Class\": \"Iron deficiency anemia\", \"Importance\": 0.12609531878992708}, {\"Feature\": \"MCH\", \"Class\": \"Iron deficiency anemia\", \"Importance\": 0.7953146250518107}, {\"Feature\": \"MCHC\", \"Class\": \"Iron deficiency anemia\", \"Importance\": 0.07859005615826213}, {\"Feature\": \"PLT\", \"Class\": \"Iron deficiency anemia\", \"Importance\": 0.0}, {\"Feature\": \"PDW\", \"Class\": \"Iron deficiency anemia\", \"Importance\": 0.0}, {\"Feature\": \"PCT\", \"Class\": \"Iron deficiency anemia\", \"Importance\": 0.0}, {\"Feature\": \"WBC\", \"Class\": \"Leukemia\", \"Importance\": 0.5334299774819907}, {\"Feature\": \"LYMp\", \"Class\": \"Leukemia\", \"Importance\": 0.0}, {\"Feature\": \"NEUTp\", \"Class\": \"Leukemia\", \"Importance\": 0.0}, {\"Feature\": \"LYMn\", \"Class\": \"Leukemia\", \"Importance\": 0.0}, {\"Feature\": \"NEUTn\", \"Class\": \"Leukemia\", \"Importance\": 0.0}, {\"Feature\": \"RBC\", \"Class\": \"Leukemia\", \"Importance\": 0.0}, {\"Feature\": \"HGB\", \"Class\": \"Leukemia\", \"Importance\": 0.2959333334804011}, {\"Feature\": \"HCT\", \"Class\": \"Leukemia\", \"Importance\": 0.0}, {\"Feature\": \"MCV\", \"Class\": \"Leukemia\", \"Importance\": 0.0}, {\"Feature\": \"MCH\", \"Class\": \"Leukemia\", \"Importance\": 0.0}, {\"Feature\": \"MCHC\", \"Class\": \"Leukemia\", \"Importance\": 0.0}, {\"Feature\": \"PLT\", \"Class\": \"Leukemia\", \"Importance\": 0.17063668903760815}, {\"Feature\": \"PDW\", \"Class\": \"Leukemia\", \"Importance\": 0.0}, {\"Feature\": \"PCT\", \"Class\": \"Leukemia\", \"Importance\": 0.0}, {\"Feature\": \"WBC\", \"Class\": \"Leukemia with thrombocytopenia\", \"Importance\": 0.44427088421264904}, {\"Feature\": \"LYMp\", \"Class\": \"Leukemia with thrombocytopenia\", \"Importance\": 0.0}, {\"Feature\": \"NEUTp\", \"Class\": \"Leukemia with thrombocytopenia\", \"Importance\": 0.0}, {\"Feature\": \"LYMn\", \"Class\": \"Leukemia with thrombocytopenia\", \"Importance\": 0.0}, {\"Feature\": \"NEUTn\", \"Class\": \"Leukemia with thrombocytopenia\", \"Importance\": 0.0}, {\"Feature\": \"RBC\", \"Class\": \"Leukemia with thrombocytopenia\", \"Importance\": 0.0}, {\"Feature\": \"HGB\", \"Class\": \"Leukemia with thrombocytopenia\", \"Importance\": 0.16713040589822004}, {\"Feature\": \"HCT\", \"Class\": \"Leukemia with thrombocytopenia\", \"Importance\": 0.0}, {\"Feature\": \"MCV\", \"Class\": \"Leukemia with thrombocytopenia\", \"Importance\": 0.0}, {\"Feature\": \"MCH\", \"Class\": \"Leukemia with thrombocytopenia\", \"Importance\": 0.0}, {\"Feature\": \"MCHC\", \"Class\": \"Leukemia with thrombocytopenia\", \"Importance\": 0.0}, {\"Feature\": \"PLT\", \"Class\": \"Leukemia with thrombocytopenia\", \"Importance\": 0.38859870988913087}, {\"Feature\": \"PDW\", \"Class\": \"Leukemia with thrombocytopenia\", \"Importance\": 0.0}, {\"Feature\": \"PCT\", \"Class\": \"Leukemia with thrombocytopenia\", \"Importance\": 0.0}, {\"Feature\": \"WBC\", \"Class\": \"Macrocytic anemia\", \"Importance\": 0.0}, {\"Feature\": \"LYMp\", \"Class\": \"Macrocytic anemia\", \"Importance\": 0.0}, {\"Feature\": \"NEUTp\", \"Class\": \"Macrocytic anemia\", \"Importance\": 0.0}, {\"Feature\": \"LYMn\", \"Class\": \"Macrocytic anemia\", \"Importance\": 0.0}, {\"Feature\": \"NEUTn\", \"Class\": \"Macrocytic anemia\", \"Importance\": 0.0}, {\"Feature\": \"RBC\", \"Class\": \"Macrocytic anemia\", \"Importance\": 0.0}, {\"Feature\": \"HGB\", \"Class\": \"Macrocytic anemia\", \"Importance\": 0.20424759811668697}, {\"Feature\": \"HCT\", \"Class\": \"Macrocytic anemia\", \"Importance\": 0.0}, {\"Feature\": \"MCV\", \"Class\": \"Macrocytic anemia\", \"Importance\": 0.7957524018833131}, {\"Feature\": \"MCH\", \"Class\": \"Macrocytic anemia\", \"Importance\": 0.0}, {\"Feature\": \"MCHC\", \"Class\": \"Macrocytic anemia\", \"Importance\": 0.0}, {\"Feature\": \"PLT\", \"Class\": \"Macrocytic anemia\", \"Importance\": 0.0}, {\"Feature\": \"PDW\", \"Class\": \"Macrocytic anemia\", \"Importance\": 0.0}, {\"Feature\": \"PCT\", \"Class\": \"Macrocytic anemia\", \"Importance\": 0.0}, {\"Feature\": \"WBC\", \"Class\": \"Normocytic hypochromic anemia\", \"Importance\": 0.0}, {\"Feature\": \"LYMp\", \"Class\": \"Normocytic hypochromic anemia\", \"Importance\": 0.0}, {\"Feature\": \"NEUTp\", \"Class\": \"Normocytic hypochromic anemia\", \"Importance\": 0.0}, {\"Feature\": \"LYMn\", \"Class\": \"Normocytic hypochromic anemia\", \"Importance\": 0.0}, {\"Feature\": \"NEUTn\", \"Class\": \"Normocytic hypochromic anemia\", \"Importance\": 0.0}, {\"Feature\": \"RBC\", \"Class\": \"Normocytic hypochromic anemia\", \"Importance\": 0.0}, {\"Feature\": \"HGB\", \"Class\": \"Normocytic hypochromic anemia\", \"Importance\": 0.28607961254181785}, {\"Feature\": \"HCT\", \"Class\": \"Normocytic hypochromic anemia\", \"Importance\": 0.0}, {\"Feature\": \"MCV\", \"Class\": \"Normocytic hypochromic anemia\", \"Importance\": 0.332422508167586}, {\"Feature\": \"MCH\", \"Class\": \"Normocytic hypochromic anemia\", \"Importance\": 0.08814997609058113}, {\"Feature\": \"MCHC\", \"Class\": \"Normocytic hypochromic anemia\", \"Importance\": 0.2933479032000149}, {\"Feature\": \"PLT\", \"Class\": \"Normocytic hypochromic anemia\", \"Importance\": 0.0}, {\"Feature\": \"PDW\", \"Class\": \"Normocytic hypochromic anemia\", \"Importance\": 0.0}, {\"Feature\": \"PCT\", \"Class\": \"Normocytic hypochromic anemia\", \"Importance\": 0.0}, {\"Feature\": \"WBC\", \"Class\": \"Normocytic normochromic anemia\", \"Importance\": 0.0}, {\"Feature\": \"LYMp\", \"Class\": \"Normocytic normochromic anemia\", \"Importance\": 0.0}, {\"Feature\": \"NEUTp\", \"Class\": \"Normocytic normochromic anemia\", \"Importance\": 0.0}, {\"Feature\": \"LYMn\", \"Class\": \"Normocytic normochromic anemia\", \"Importance\": 0.01258169390620137}, {\"Feature\": \"NEUTn\", \"Class\": \"Normocytic normochromic anemia\", \"Importance\": 0.0}, {\"Feature\": \"RBC\", \"Class\": \"Normocytic normochromic anemia\", \"Importance\": 0.0}, {\"Feature\": \"HGB\", \"Class\": \"Normocytic normochromic anemia\", \"Importance\": 0.44694379287805286}, {\"Feature\": \"HCT\", \"Class\": \"Normocytic normochromic anemia\", \"Importance\": 0.0}, {\"Feature\": \"MCV\", \"Class\": \"Normocytic normochromic anemia\", \"Importance\": 0.0}, {\"Feature\": \"MCH\", \"Class\": \"Normocytic normochromic anemia\", \"Importance\": 0.2325104595526119}, {\"Feature\": \"MCHC\", \"Class\": \"Normocytic normochromic anemia\", \"Importance\": 0.3079640536631338}, {\"Feature\": \"PLT\", \"Class\": \"Normocytic normochromic anemia\", \"Importance\": 0.0}, {\"Feature\": \"PDW\", \"Class\": \"Normocytic normochromic anemia\", \"Importance\": 0.0}, {\"Feature\": \"PCT\", \"Class\": \"Normocytic normochromic anemia\", \"Importance\": 0.0}, {\"Feature\": \"WBC\", \"Class\": \"Other microcytic anemia\", \"Importance\": 0.0}, {\"Feature\": \"LYMp\", \"Class\": \"Other microcytic anemia\", \"Importance\": 0.0}, {\"Feature\": \"NEUTp\", \"Class\": \"Other microcytic anemia\", \"Importance\": 0.0}, {\"Feature\": \"LYMn\", \"Class\": \"Other microcytic anemia\", \"Importance\": 0.0}, {\"Feature\": \"NEUTn\", \"Class\": \"Other microcytic anemia\", \"Importance\": 0.0}, {\"Feature\": \"RBC\", \"Class\": \"Other microcytic anemia\", \"Importance\": 0.0}, {\"Feature\": \"HGB\", \"Class\": \"Other microcytic anemia\", \"Importance\": 0.04690577145214285}, {\"Feature\": \"HCT\", \"Class\": \"Other microcytic anemia\", \"Importance\": 0.0}, {\"Feature\": \"MCV\", \"Class\": \"Other microcytic anemia\", \"Importance\": 0.43258140377954823}, {\"Feature\": \"MCH\", \"Class\": \"Other microcytic anemia\", \"Importance\": 0.0664843084701964}, {\"Feature\": \"MCHC\", \"Class\": \"Other microcytic anemia\", \"Importance\": 0.4540285162981126}, {\"Feature\": \"PLT\", \"Class\": \"Other microcytic anemia\", \"Importance\": 0.0}, {\"Feature\": \"PDW\", \"Class\": \"Other microcytic anemia\", \"Importance\": 0.0}, {\"Feature\": \"PCT\", \"Class\": \"Other microcytic anemia\", \"Importance\": 0.0}, {\"Feature\": \"WBC\", \"Class\": \"Thrombocytopenia\", \"Importance\": 0.12836599717486055}, {\"Feature\": \"LYMp\", \"Class\": \"Thrombocytopenia\", \"Importance\": 0.0}, {\"Feature\": \"NEUTp\", \"Class\": \"Thrombocytopenia\", \"Importance\": 0.0}, {\"Feature\": \"LYMn\", \"Class\": \"Thrombocytopenia\", \"Importance\": 0.0}, {\"Feature\": \"NEUTn\", \"Class\": \"Thrombocytopenia\", \"Importance\": 0.0}, {\"Feature\": \"RBC\", \"Class\": \"Thrombocytopenia\", \"Importance\": 0.0}, {\"Feature\": \"HGB\", \"Class\": \"Thrombocytopenia\", \"Importance\": 0.37564851252283943}, {\"Feature\": \"HCT\", \"Class\": \"Thrombocytopenia\", \"Importance\": 0.0}, {\"Feature\": \"MCV\", \"Class\": \"Thrombocytopenia\", \"Importance\": 0.0}, {\"Feature\": \"MCH\", \"Class\": \"Thrombocytopenia\", \"Importance\": 0.0}, {\"Feature\": \"MCHC\", \"Class\": \"Thrombocytopenia\", \"Importance\": 0.0}, {\"Feature\": \"PLT\", \"Class\": \"Thrombocytopenia\", \"Importance\": 0.49598549030229994}, {\"Feature\": \"PDW\", \"Class\": \"Thrombocytopenia\", \"Importance\": 0.0}, {\"Feature\": \"PCT\", \"Class\": \"Thrombocytopenia\", \"Importance\": 0.0}]}}, {\"mode\": \"vega-lite\"});\n",
       "</script>"
      ],
      "text/plain": [
       "alt.Chart(...)"
      ]
     },
     "metadata": {},
     "output_type": "display_data"
    }
   ],
   "source": [
    "display(stacked)"
   ]
  }
 ],
 "metadata": {
  "colab": {
   "provenance": []
  },
  "kernelspec": {
   "display_name": "Python 3 (ipykernel)",
   "language": "python",
   "name": "python3"
  },
  "language_info": {
   "codemirror_mode": {
    "name": "ipython",
    "version": 3
   },
   "file_extension": ".py",
   "mimetype": "text/x-python",
   "name": "python",
   "nbconvert_exporter": "python",
   "pygments_lexer": "ipython3",
   "version": "3.11.7"
  }
 },
 "nbformat": 4,
 "nbformat_minor": 0
}
